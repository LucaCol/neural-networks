{
 "cells": [
  {
   "cell_type": "code",
   "execution_count": 1,
   "id": "bb4f7f3c-166b-49f7-8d0e-8cd56b33226d",
   "metadata": {},
   "outputs": [],
   "source": [
    "import torch\n",
    "import torch.nn as nn\n",
    "import torch.optim as optim\n",
    "import torchvision\n",
    "import torchvision.transforms as transforms\n",
    "from torchinfo import summary\n",
    "from torch.utils.data import DataLoader, Subset\n",
    "from sklearn.model_selection import train_test_split\n",
    "import matplotlib.pyplot as plt\n",
    "import math\n",
    "#from tqdm.notebook import tqdm\n",
    "\n",
    "from train_test import train, test\n",
    "\n",
    "# device configuration\n",
    "device = torch.device('cuda' if torch.cuda.is_available() else 'cpu')"
   ]
  },
  {
   "cell_type": "markdown",
   "id": "948e4808-f4c9-4aae-9077-9e01b545a0e3",
   "metadata": {
    "tags": []
   },
   "source": [
    "## MNIST Dataset"
   ]
  },
  {
   "cell_type": "code",
   "execution_count": 2,
   "id": "5f230b6f-d17c-42b6-88f2-a32c31ab9c5f",
   "metadata": {},
   "outputs": [
    {
     "name": "stdout",
     "output_type": "stream",
     "text": [
      "844\n",
      "94\n",
      "157\n"
     ]
    }
   ],
   "source": [
    "VAL_SIZE = 0.1\n",
    "BATCH_SIZE = 64\n",
    "\n",
    "# download the training and testing datasets\n",
    "train_dataset = torchvision.datasets.MNIST(root='./data',\n",
    "                                           train=True,\n",
    "                                           transform=transforms.ToTensor(),\n",
    "                                           download=True)\n",
    "\n",
    "test_dataset = torchvision.datasets.MNIST(root='./root',\n",
    "                                          train=False,\n",
    "                                          transform=transforms.ToTensor(),\n",
    "                                          download=True)\n",
    "\n",
    "# split the training set into train and validation sets\n",
    "train_indices, val_indices, _, _ = train_test_split(range(len(train_dataset)),\n",
    "                                                    train_dataset.targets,\n",
    "                                                    stratify=train_dataset.targets,\n",
    "                                                    test_size=VAL_SIZE)\n",
    "\n",
    "train_split = Subset(train_dataset, train_indices)\n",
    "val_split = Subset(train_dataset, val_indices)\n",
    "\n",
    "# now create the batches of the train, val, test sets\n",
    "train_loader = DataLoader(train_split, batch_size=BATCH_SIZE, shuffle=True)\n",
    "val_loader = DataLoader(val_split, batch_size=BATCH_SIZE, shuffle=True)\n",
    "test_loader = DataLoader(test_dataset, batch_size=BATCH_SIZE, shuffle=True)\n",
    "\n",
    "print(len(train_loader))\n",
    "print(len(val_loader))\n",
    "print(len(test_loader))"
   ]
  },
  {
   "cell_type": "code",
   "execution_count": 3,
   "id": "98aa0671-5fb8-4f9a-9219-a46e8da47253",
   "metadata": {},
   "outputs": [
    {
     "name": "stdout",
     "output_type": "stream",
     "text": [
      "torch.Size([28, 28])\n"
     ]
    },
    {
     "data": {
      "image/png": "[encoded data removed]",
      "text/plain": [
       "<Figure size 640x480 with 6 Axes>"
      ]
     },
     "metadata": {},
     "output_type": "display_data"
    }
   ],
   "source": [
    "# show some samples from test set\n",
    "\n",
    "samples = iter(test_loader)\n",
    "sample_data, sample_targets = next(samples)\n",
    "print((sample_data[0][0]).size())\n",
    "\n",
    "for i in range(6):\n",
    "    plt.subplot(2, 3, i+1)\n",
    "    plt.imshow(sample_data[i][0], cmap='gray')\n",
    "plt.show()"
   ]
  },
  {
   "cell_type": "markdown",
   "id": "422e201f-0f18-477b-b294-128d1086a246",
   "metadata": {},
   "source": [
    "## Model"
   ]
  },
  {
   "cell_type": "markdown",
   "id": "f6fa029b-f937-487a-9526-dd3836b00c7c",
   "metadata": {},
   "source": [
    "We build these main blocks:\n",
    "- DenseBlocks:\n",
    "    - BottleneckBlock: if we set bottleneck=True. it is used to reduce the computation complexity, here we use conv_1x1 to reduce the number of channels before the conv_3x3. Then concatenate with the previous BottleneckBlock output\n",
    "    - SingleBlock: if we set bottleneck=False. we use the standard dense layers which concatenate with the previous SingleBlock\n",
    "- TransitionBlock: where we apply the reduction step before using the dense blocks"
   ]
  },
  {
   "cell_type": "markdown",
   "id": "40dd4c38-961a-4bb8-8173-fbe550de7369",
   "metadata": {
    "tags": []
   },
   "source": [
    "### DenseNet Representation\n",
    "<div>\n",
    "<center><img src=\"images/denseNet/denseNet.png\" width=\"600\" center=/></center>\n",
    "</div>\n",
    "\n",
    "### Dense Block\n",
    "<div>\n",
    "<center><img src=\"images/denseNet/dense_block.png\" width=\"600\" center=/></center>\n",
    "</div>\n",
    "Here we can see that in each step we make a convolution with out_channles = growth_rate and then concat the previous channels"
   ]
  },
  {
   "cell_type": "code",
   "execution_count": 4,
   "id": "9e5c501a-2c55-4d27-8c95-8d3ae9b87e5c",
   "metadata": {},
   "outputs": [],
   "source": [
    "# BottleneckBlock\n",
    "\n",
    "class BottleneckBlock(nn.Module):\n",
    "    def __init__(self, in_channels, growth_rate):\n",
    "        super(BottleneckBlock, self).__init__()\n",
    "        reduced_channels = 4 * growth_rate\n",
    "        \n",
    "        self.conv1_bn = nn.BatchNorm2d(in_channels)\n",
    "        self.conv1 = nn.Conv2d(in_channels, reduced_channels, kernel_size=1, bias=False)\n",
    "        \n",
    "        self.conv2_bn = nn.BatchNorm2d(reduced_channels)\n",
    "        self.conv2 = nn.Conv2d(reduced_channels, growth_rate, kernel_size=3, padding=1, bias=False)\n",
    "        \n",
    "        self.relu = nn.ReLU()\n",
    "        \n",
    "    def forward(self, x):\n",
    "        out = self.conv1(self.relu(self.conv1_bn(x)))\n",
    "        out = self.conv2(self.relu(self.conv2_bn(out)))\n",
    "        out = torch.cat((x, out), 1)\n",
    "        return out"
   ]
  },
  {
   "cell_type": "code",
   "execution_count": 5,
   "id": "dd300b08-d085-44af-bf98-4ab7efa112de",
   "metadata": {},
   "outputs": [],
   "source": [
    "# SingleBlock\n",
    "\n",
    "class SingleBlock(nn.Module):\n",
    "    def __init__(self, in_channels, growth_rate):\n",
    "        super(SingleBlock, self).__init__()\n",
    "\n",
    "        self.conv_bn = nn.BatchNorm2d(in_channels)\n",
    "        self.conv = nn.Conv2d(in_channels, growth_rate, kernel_size=3, padding=1, bias=False)\n",
    "\n",
    "        self.relu = nn.ReLU()\n",
    "    \n",
    "    def forward(self, x):\n",
    "        out = self.conv(self.relu(self.conv_bn(x)))\n",
    "        out = torch.cat((x, out), 1)\n",
    "        \n",
    "        return out"
   ]
  },
  {
   "cell_type": "code",
   "execution_count": 6,
   "id": "165ab2c5-68ca-4bdc-a8c9-decaa0dacd06",
   "metadata": {},
   "outputs": [],
   "source": [
    "# TransitionBlock\n",
    "\n",
    "class TransitionBlock(nn.Module):\n",
    "    def __init__(self, in_channels, out_channels):\n",
    "        super(TransitionBlock, self).__init__()\n",
    "        \n",
    "        self.conv_bn = nn.BatchNorm2d(in_channels)\n",
    "        self.conv = nn.Conv2d(in_channels, out_channels, kernel_size=1, bias=False)\n",
    "        #self.avgpool = nn.AvgPool2d(out_channels, 2)\n",
    "        self.avgpool = nn.MaxPool2d(2, 2)\n",
    "        \n",
    "        self.relu = nn.ReLU()\n",
    "        \n",
    "    def forward(self, x):\n",
    "        out = self.conv(self.relu(self.conv_bn(x)))\n",
    "        out = self.avgpool(out)\n",
    "        \n",
    "        return out"
   ]
  },
  {
   "cell_type": "code",
   "execution_count": 7,
   "id": "0a914885-7d4c-4f13-bb98-eb4f2794adc2",
   "metadata": {},
   "outputs": [],
   "source": [
    "# DenseNet\n",
    "\n",
    "# growth_rate: how many layers are added at each dense layer step in the dense Blocks\n",
    "# depth: is used to control the number of the n_dense_blocks, in my case I set it manually to a constant value\n",
    "# reduction: in case we have a lot of channels at the end of each transaction step we can reduce them setting a reductio factor\n",
    "# num_classes: are the number of class we want to predict\n",
    "# bottlenet: True if we want to add more reduction inside the dense blocks adding a 1x1_conv\n",
    "\n",
    "class DenseNet(nn.Module):\n",
    "    def __init__(self, growth_rate, depth, reduction, num_classes, bottleneck):\n",
    "        super(DenseNet, self).__init__()\n",
    "        \n",
    "        n_dense_blocks = 3 #(depth-4) // 3 here we can set how many dense layers to concatenate we have in each dense block\n",
    "        if bottleneck:\n",
    "            n_dense_blocks //= 2\n",
    "            \n",
    "        channels = 2 * growth_rate\n",
    "        \n",
    "        self.conv1 = nn.Conv2d(1, channels, kernel_size=3, padding=1, bias=False)\n",
    "        self.dense1 = self._make_dense(channels, growth_rate, n_dense_blocks, bottleneck)\n",
    "        channels += n_dense_blocks * growth_rate\n",
    "        out_channels = int(math.floor(channels*reduction))\n",
    "        self.trans1 = TransitionBlock(channels, out_channels)\n",
    "        \n",
    "        channels = out_channels\n",
    "        self.dense2 = self._make_dense(channels, growth_rate, n_dense_blocks, bottleneck)\n",
    "        channels += n_dense_blocks * growth_rate\n",
    "        out_channels = int(math.floor(channels*reduction))\n",
    "        self.trans2 = TransitionBlock(channels, out_channels)\n",
    "        \n",
    "        channels = out_channels\n",
    "        self.dense3 = self._make_dense(channels, growth_rate, n_dense_blocks, bottleneck)\n",
    "        channels += n_dense_blocks * growth_rate\n",
    "        \n",
    "        self.bn = nn.BatchNorm2d(channels)\n",
    "        self.relu = nn.ReLU()\n",
    "        \n",
    "        self.adaptAvgPool = nn.AdaptiveAvgPool2d(1)\n",
    "        self.fc1 = nn.Linear(channels, num_classes)\n",
    "        \n",
    "        for m in self.modules():\n",
    "            if isinstance(m, nn.Conv2d):\n",
    "                n = m.kernel_size[0] * m.kernel_size[1] * m.out_channels\n",
    "                m.weight.data.normal_(0, math.sqrt(2. / n))\n",
    "            elif isinstance(m, nn.BatchNorm2d):\n",
    "                m.weight.data.fill_(1)\n",
    "                m.bias.data.zero_()\n",
    "            elif isinstance(m, nn.Linear):\n",
    "                m.bias.data.zero_()\n",
    "        \n",
    "    def _make_dense(self, channels, growth_rate, n_dense_blocks, bottleneck):\n",
    "        layers = []\n",
    "        for i in range(int(n_dense_blocks)):\n",
    "            if bottleneck:\n",
    "                layers.append(BottleneckBlock(channels, growth_rate))\n",
    "            else:\n",
    "                layers.append(SingleBlock(channels, growth_rate))\n",
    "                \n",
    "            channels += growth_rate\n",
    "        \n",
    "        return nn.Sequential(*layers)\n",
    "    \n",
    "    def forward(self, x):\n",
    "        x = self.conv1(x)\n",
    "        x = self.trans1(self.dense1(x))\n",
    "        x = self.trans2(self.dense2(x))\n",
    "        x = self.dense3(x)\n",
    "        x = self.relu(self.bn(x))\n",
    "        x = self.adaptAvgPool(x)\n",
    "        x = x.reshape(x.shape[0], -1) # flatten the out in a single vector\n",
    "        x = self.fc1(x)\n",
    "        \n",
    "        return x"
   ]
  },
  {
   "cell_type": "code",
   "execution_count": 8,
   "id": "f7da505b-585f-4ee5-866c-66eae7838469",
   "metadata": {},
   "outputs": [
    {
     "data": {
      "text/plain": [
       "==========================================================================================\n",
       "Layer (type:depth-idx)                   Output Shape              Param #\n",
       "==========================================================================================\n",
       "DenseNet                                 [64, 10]                  --\n",
       "├─Conv2d: 1-1                            [64, 24, 28, 28]          216\n",
       "├─Sequential: 1-2                        [64, 60, 28, 28]          --\n",
       "│    └─SingleBlock: 2-1                  [64, 36, 28, 28]          --\n",
       "│    │    └─BatchNorm2d: 3-1             [64, 24, 28, 28]          48\n",
       "│    │    └─ReLU: 3-2                    [64, 24, 28, 28]          --\n",
       "│    │    └─Conv2d: 3-3                  [64, 12, 28, 28]          2,592\n",
       "│    └─SingleBlock: 2-2                  [64, 48, 28, 28]          --\n",
       "│    │    └─BatchNorm2d: 3-4             [64, 36, 28, 28]          72\n",
       "│    │    └─ReLU: 3-5                    [64, 36, 28, 28]          --\n",
       "│    │    └─Conv2d: 3-6                  [64, 12, 28, 28]          3,888\n",
       "│    └─SingleBlock: 2-3                  [64, 60, 28, 28]          --\n",
       "│    │    └─BatchNorm2d: 3-7             [64, 48, 28, 28]          96\n",
       "│    │    └─ReLU: 3-8                    [64, 48, 28, 28]          --\n",
       "│    │    └─Conv2d: 3-9                  [64, 12, 28, 28]          5,184\n",
       "├─TransitionBlock: 1-3                   [64, 48, 14, 14]          --\n",
       "│    └─BatchNorm2d: 2-4                  [64, 60, 28, 28]          120\n",
       "│    └─ReLU: 2-5                         [64, 60, 28, 28]          --\n",
       "│    └─Conv2d: 2-6                       [64, 48, 28, 28]          2,880\n",
       "│    └─MaxPool2d: 2-7                    [64, 48, 14, 14]          --\n",
       "├─Sequential: 1-4                        [64, 84, 14, 14]          --\n",
       "│    └─SingleBlock: 2-8                  [64, 60, 14, 14]          --\n",
       "│    │    └─BatchNorm2d: 3-10            [64, 48, 14, 14]          96\n",
       "│    │    └─ReLU: 3-11                   [64, 48, 14, 14]          --\n",
       "│    │    └─Conv2d: 3-12                 [64, 12, 14, 14]          5,184\n",
       "│    └─SingleBlock: 2-9                  [64, 72, 14, 14]          --\n",
       "│    │    └─BatchNorm2d: 3-13            [64, 60, 14, 14]          120\n",
       "│    │    └─ReLU: 3-14                   [64, 60, 14, 14]          --\n",
       "│    │    └─Conv2d: 3-15                 [64, 12, 14, 14]          6,480\n",
       "│    └─SingleBlock: 2-10                 [64, 84, 14, 14]          --\n",
       "│    │    └─BatchNorm2d: 3-16            [64, 72, 14, 14]          144\n",
       "│    │    └─ReLU: 3-17                   [64, 72, 14, 14]          --\n",
       "│    │    └─Conv2d: 3-18                 [64, 12, 14, 14]          7,776\n",
       "├─TransitionBlock: 1-5                   [64, 67, 7, 7]            --\n",
       "│    └─BatchNorm2d: 2-11                 [64, 84, 14, 14]          168\n",
       "│    └─ReLU: 2-12                        [64, 84, 14, 14]          --\n",
       "│    └─Conv2d: 2-13                      [64, 67, 14, 14]          5,628\n",
       "│    └─MaxPool2d: 2-14                   [64, 67, 7, 7]            --\n",
       "├─Sequential: 1-6                        [64, 103, 7, 7]           --\n",
       "│    └─SingleBlock: 2-15                 [64, 79, 7, 7]            --\n",
       "│    │    └─BatchNorm2d: 3-19            [64, 67, 7, 7]            134\n",
       "│    │    └─ReLU: 3-20                   [64, 67, 7, 7]            --\n",
       "│    │    └─Conv2d: 3-21                 [64, 12, 7, 7]            7,236\n",
       "│    └─SingleBlock: 2-16                 [64, 91, 7, 7]            --\n",
       "│    │    └─BatchNorm2d: 3-22            [64, 79, 7, 7]            158\n",
       "│    │    └─ReLU: 3-23                   [64, 79, 7, 7]            --\n",
       "│    │    └─Conv2d: 3-24                 [64, 12, 7, 7]            8,532\n",
       "│    └─SingleBlock: 2-17                 [64, 103, 7, 7]           --\n",
       "│    │    └─BatchNorm2d: 3-25            [64, 91, 7, 7]            182\n",
       "│    │    └─ReLU: 3-26                   [64, 91, 7, 7]            --\n",
       "│    │    └─Conv2d: 3-27                 [64, 12, 7, 7]            9,828\n",
       "├─BatchNorm2d: 1-7                       [64, 103, 7, 7]           206\n",
       "├─ReLU: 1-8                              [64, 103, 7, 7]           --\n",
       "├─AdaptiveAvgPool2d: 1-9                 [64, 103, 1, 1]           --\n",
       "├─Linear: 1-10                           [64, 10]                  1,040\n",
       "==========================================================================================\n",
       "Total params: 68,008\n",
       "Trainable params: 68,008\n",
       "Non-trainable params: 0\n",
       "Total mult-adds (G): 1.14\n",
       "==========================================================================================\n",
       "Input size (MB): 0.20\n",
       "Forward/backward pass size (MB): 157.06\n",
       "Params size (MB): 0.27\n",
       "Estimated Total Size (MB): 157.53\n",
       "=========================================================================================="
      ]
     },
     "execution_count": 8,
     "metadata": {},
     "output_type": "execute_result"
    }
   ],
   "source": [
    "model = DenseNet(growth_rate=12, depth=0, reduction=0.8,\n",
    "                            bottleneck=False, num_classes=10).to(device)\n",
    "summary(model, input_size=(BATCH_SIZE, 1, 28, 28))"
   ]
  },
  {
   "cell_type": "markdown",
   "id": "7faf2da9-275d-43c9-a9af-db336469c8f3",
   "metadata": {},
   "source": [
    "## Training and Validation the Model"
   ]
  },
  {
   "cell_type": "code",
   "execution_count": 9,
   "id": "b41e68bf-8ede-4678-a60c-c797059d643e",
   "metadata": {},
   "outputs": [],
   "source": [
    "# loss and optmizer\n",
    "learning_rate = 0.001\n",
    "\n",
    "criterion = nn.CrossEntropyLoss()\n",
    "optimizer = optim.SGD(model.parameters(), lr=learning_rate)"
   ]
  },
  {
   "cell_type": "code",
   "execution_count": null,
   "id": "e20baa97-2096-46ba-b166-1bfb7dccb1ca",
   "metadata": {},
   "outputs": [],
   "source": [
    "EPOCHS = 5 #100\n",
    "\n",
    "for epoch in range(EPOCHS):\n",
    "    print(f\"[INFO]: Epoch {epoch+1} of {EPOCHS}\")\n",
    "    train_epoch_loss, train_epoch_acc = train(model, train_loader, optimizer, criterion)\n",
    "    print('\\n')\n",
    "    val_epoch_loss, val_epoch_acc = test(model, val_loader, criterion)\n",
    "    \n",
    "    print('\\n')\n",
    "    print(f\"training loss: {train_epoch_loss:.3f}, training acc: {train_epoch_acc:.3f}%\")\n",
    "    print(f\"validation loss: {val_epoch_loss:.3f}, validation acc: {val_epoch_acc:.3f}%\")\n",
    "    print('-'*50)"
   ]
  },
  {
   "cell_type": "code",
   "execution_count": null,
   "id": "1f2d2800-308d-461f-8d32-27bfc849773c",
   "metadata": {},
   "outputs": [],
   "source": [
    "\"\"\"\n",
    "# save the trained model to disk\n",
    "torch.save({\n",
    "            'epoch': epochs,\n",
    "            'model_state_dict': model.state_dict(),\n",
    "            'optimizer_state_dict': optimizer.state_dict(),\n",
    "            'loss': criterion,\n",
    "            }, './model.pth')\n",
    "\"\"\";"
   ]
  }
 ],
 "metadata": {
  "kernelspec": {
   "display_name": "Python 3 (ipykernel)",
   "language": "python",
   "name": "python3"
  },
  "language_info": {
   "codemirror_mode": {
    "name": "ipython",
    "version": 3
   },
   "file_extension": ".py",
   "mimetype": "text/x-python",
   "name": "python",
   "nbconvert_exporter": "python",
   "pygments_lexer": "ipython3",
   "version": "3.9.13"
  }
 },
 "nbformat": 4,
 "nbformat_minor": 5
}
