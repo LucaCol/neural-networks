{
 "cells": [
  {
   "cell_type": "code",
   "execution_count": 1,
   "id": "bf7a6e19-64e0-4806-b442-72e6d960a498",
   "metadata": {},
   "outputs": [],
   "source": [
    "import torch\n",
    "import torch.nn as nn\n",
    "import torch.optim as optim\n",
    "import torchvision\n",
    "import torchvision.transforms as transforms\n",
    "from torchinfo import summary\n",
    "from torch.utils.data import DataLoader, Subset\n",
    "from sklearn.model_selection import train_test_split\n",
    "import matplotlib.pyplot as plt\n",
    "from math import ceil\n",
    "#from tqdm.notebook import tqdm\n",
    "\n",
    "from train_test import train, test\n",
    "\n",
    "# device configuration\n",
    "device = torch.device('cuda' if torch.cuda.is_available() else 'cpu')"
   ]
  },
  {
   "cell_type": "markdown",
   "id": "7cb9d94d-4adf-4e8d-8a91-f3ed2f1b8334",
   "metadata": {
    "tags": []
   },
   "source": [
    "## MNIST Dataset"
   ]
  },
  {
   "cell_type": "code",
   "execution_count": 2,
   "id": "82707cf1-b351-4ae6-8717-3dd03e86b6bf",
   "metadata": {},
   "outputs": [
    {
     "name": "stdout",
     "output_type": "stream",
     "text": [
      "844\n",
      "94\n",
      "157\n"
     ]
    }
   ],
   "source": [
    "VAL_SIZE = 0.1\n",
    "BATCH_SIZE = 64\n",
    "\n",
    "# download the training and testing datasets\n",
    "train_dataset = torchvision.datasets.MNIST(root='./data',\n",
    "                                           train=True,\n",
    "                                           transform=transforms.ToTensor(),\n",
    "                                           download=True)\n",
    "\n",
    "test_dataset = torchvision.datasets.MNIST(root='./root',\n",
    "                                          train=False,\n",
    "                                          transform=transforms.ToTensor(),\n",
    "                                          download=True)\n",
    "\n",
    "# split the training set into train and validation sets\n",
    "train_indices, val_indices, _, _ = train_test_split(range(len(train_dataset)),\n",
    "                                                    train_dataset.targets,\n",
    "                                                    stratify=train_dataset.targets,\n",
    "                                                    test_size=VAL_SIZE)\n",
    "\n",
    "train_split = Subset(train_dataset, train_indices)\n",
    "val_split = Subset(train_dataset, val_indices)\n",
    "\n",
    "# now create the batches of the train, val, test sets\n",
    "train_loader = DataLoader(train_split, batch_size=BATCH_SIZE, shuffle=True)\n",
    "val_loader = DataLoader(val_split, batch_size=BATCH_SIZE, shuffle=True)\n",
    "test_loader = DataLoader(test_dataset, batch_size=BATCH_SIZE, shuffle=True)\n",
    "\n",
    "print(len(train_loader))\n",
    "print(len(val_loader))\n",
    "print(len(test_loader))"
   ]
  },
  {
   "cell_type": "code",
   "execution_count": 3,
   "id": "5f451813-648a-4e07-81ca-a5a392c6751b",
   "metadata": {},
   "outputs": [
    {
     "name": "stdout",
     "output_type": "stream",
     "text": [
      "torch.Size([28, 28])\n"
     ]
    },
    {
     "data": {
      "image/png": "[encoded data removed]",
      "text/plain": [
       "<Figure size 640x480 with 6 Axes>"
      ]
     },
     "metadata": {},
     "output_type": "display_data"
    }
   ],
   "source": [
    "# show some samples from test set\n",
    "\n",
    "samples = iter(test_loader)\n",
    "sample_data, sample_targets = next(samples)\n",
    "print((sample_data[0][0]).size())\n",
    "\n",
    "for i in range(6):\n",
    "    plt.subplot(2, 3, i+1)\n",
    "    plt.imshow(sample_data[i][0], cmap='gray')\n",
    "plt.show()"
   ]
  },
  {
   "cell_type": "markdown",
   "id": "2c17de1c-67b3-43c0-9210-179585968528",
   "metadata": {
    "tags": []
   },
   "source": [
    "## Model"
   ]
  },
  {
   "cell_type": "markdown",
   "id": "d134ccf4-3ce9-4b58-83df-26e9dc7341e5",
   "metadata": {},
   "source": [
    "We build 4 main blocks:\n",
    "- Convolutional blocks (conv+batchnorm+siLU)\n",
    "- Inverted residual block (which uses the depthwise separable convolution)\n",
    "- Squeeze and excitation technique (SE): \n",
    "    - SE Technique works similar to the self-attention mechanism for network channels\n",
    "    - It provides a different weight for each channel\n",
    "- Stochastic Depth: a subset of layers is randomly dropped and bypass them with the identity function. And a full network is used during testing/inference"
   ]
  },
  {
   "cell_type": "code",
   "execution_count": 4,
   "id": "d6259202-e4d2-4f4e-83df-4bcc5fa381c6",
   "metadata": {},
   "outputs": [],
   "source": [
    "# Convolutional Block\n",
    "\n",
    "class ConvBlock(nn.Module):\n",
    "    def __init__(self, in_channels, out_channels, kernel_size=3, stride=1, padding=0, groups=1, bn=True, act=True):\n",
    "        super(ConvBlock, self).__init__()\n",
    "        \n",
    "        self.conv = nn.Conv2d(in_channels, out_channels, kernel_size=kernel_size, stride=stride, padding=padding,\n",
    "                              groups=groups, bias=False)\n",
    "        self.conv_bn = nn.BatchNorm2d(out_channels) if bn else nn.Identity()\n",
    "        self.silu = nn.SiLU() if act else nn.Identity()\n",
    "        \n",
    "    def forward(self, x):\n",
    "        x = self.silu(self.conv_bn(self.conv(x)))\n",
    "            \n",
    "        return x"
   ]
  },
  {
   "cell_type": "code",
   "execution_count": 5,
   "id": "76dc8311-9941-4003-a769-99c9e938a5ce",
   "metadata": {},
   "outputs": [],
   "source": [
    "# Squeeze and Excitation Block\n",
    "\n",
    "class SqueezeExcitation(nn.Module):\n",
    "    def __init__(self, in_channels, reduced_dim):\n",
    "        super(SqueezeExcitation, self).__init__()\n",
    "        \n",
    "        self.se = nn.Sequential(\n",
    "            nn.AdaptiveAvgPool2d(1),\n",
    "            nn.Conv2d(in_channels, reduced_dim, kernel_size=1),\n",
    "            nn.SiLU(),\n",
    "            nn.Conv2d(reduced_dim, in_channels, kernel_size=1),\n",
    "            nn.Sigmoid()\n",
    "        )\n",
    "    \n",
    "    def forward(self, x):\n",
    "        y = self.se(x)\n",
    "        \n",
    "        return x * y"
   ]
  },
  {
   "cell_type": "code",
   "execution_count": 6,
   "id": "50411746-cfa0-40fc-9fc2-6d8cc52354b9",
   "metadata": {},
   "outputs": [],
   "source": [
    "# Stochastic Depth Module\n",
    "\n",
    "class StochasticDepth(nn.Module):\n",
    "    def __init__(self, survival_prob = 0.8):\n",
    "        super(StochasticDepth, self).__init__()\n",
    "        \n",
    "        self.p = survival_prob\n",
    "        \n",
    "    def forward(self, x):\n",
    "        \n",
    "        # if not in training mode not drop layers\n",
    "        if not self.training:\n",
    "            return x\n",
    "        \n",
    "        # create a random tensor which decide what layers have to turn off\n",
    "        binary_tensor = torch.rand(x.shape[0], 1, 1, 1, device=x.device) < self.p\n",
    "        \n",
    "        return torch.div(x, self.p) * binary_tensor"
   ]
  },
  {
   "cell_type": "code",
   "execution_count": 7,
   "id": "ce05db7d-05dd-4ac2-a7d4-7eea213ff3ac",
   "metadata": {},
   "outputs": [],
   "source": [
    "# Inverted Residual Block\n",
    "\n",
    "class MBConvBlock(nn.Module):\n",
    "    \n",
    "    # reduction: SE Block, expansion_factor: how much expand the inverted residual block\n",
    "    def __init__(self, in_channels, out_channels, kernel_size=3,\n",
    "                 stride=1, expansion_factor=6, reduction=4, survival_prob=0.8):\n",
    "        super(MBConvBlock, self).__init__()\n",
    "        \n",
    "        self.skip_connection = (stride == 1 and in_channels == out_channels)\n",
    "        intermediate_channels = int(in_channels * expansion_factor)\n",
    "        padding = (kernel_size - 1) // 2\n",
    "        reduced_dim = int(in_channels // reduction)\n",
    "        \n",
    "        self.expand = nn.Identity() if (expansion_factor == 1) else ConvBlock(in_channels, intermediate_channels, kernel_size=1)\n",
    "        self.depthwise_conv = ConvBlock(intermediate_channels, intermediate_channels,\n",
    "                                        kernel_size=kernel_size, stride=stride,\n",
    "                                        padding=padding, groups=intermediate_channels)\n",
    "        self.se = SqueezeExcitation(intermediate_channels, reduced_dim=reduced_dim)\n",
    "        self.pointwise_conv = ConvBlock(intermediate_channels, out_channels,\n",
    "                                        kernel_size=1, act=False)\n",
    "        self.drop_layers = StochasticDepth(survival_prob=survival_prob)\n",
    "        \n",
    "    def forward(self, x):\n",
    "        residual = x\n",
    "        \n",
    "        x = self.expand(x)\n",
    "        x = self.depthwise_conv(x)\n",
    "        x = self.se(x)\n",
    "        x = self.pointwise_conv(x)\n",
    "        \n",
    "        if self.skip_connection:\n",
    "            x = self.drop_layers(x)\n",
    "            x += residual\n",
    "        \n",
    "        return x"
   ]
  },
  {
   "cell_type": "code",
   "execution_count": 8,
   "id": "d457d7d6-c26b-48a0-8d23-f20d70af19e0",
   "metadata": {},
   "outputs": [],
   "source": [
    "# EfficientNet \n",
    "\n",
    "class EfficientNet(nn.Module):\n",
    "    def __init__(self, width_factor=1, depth_factor=1, dropout_rate=0.2, num_classes=10):\n",
    "        super(EfficientNet, self).__init__()\n",
    "        \n",
    "        last_channel = ceil(128 * width_factor)\n",
    "        self.features = self._feature_extractor(width_factor, depth_factor, last_channel)\n",
    "        self.adaptAvgPool = nn.AdaptiveAvgPool2d(1)\n",
    "        \n",
    "        self.fc = nn.Sequential(\n",
    "            nn.Dropout(dropout_rate),\n",
    "            nn.Linear(last_channel, num_classes)\n",
    "            )\n",
    "    \n",
    "    def forward(self, x):\n",
    "        x = self.features(x)\n",
    "        x = self.adaptAvgPool(x)\n",
    "        x = x.reshape(x.shape[0], -1) # flatten the out in a single vector\n",
    "        x = self.fc(x)\n",
    "        \n",
    "        return x\n",
    "    \n",
    "    def _feature_extractor(self, width_factor, depth_factor, last_channel):\n",
    "        \n",
    "        channels = 4*ceil(int(16*width_factor) / 4)\n",
    "        layers = [ConvBlock(1, channels, kernel_size=3, stride=2, padding=1)]\n",
    "        in_channels = channels\n",
    "        \n",
    "        # these are hyper-parameters\n",
    "        # parametes used in well-known efficientNet\n",
    "        \"\"\"\n",
    "        kernels = [3, 3, 5, 3, 5, 5, 3]\n",
    "        expansions = [1, 6, 6, 6, 6, 6, 6]\n",
    "        num_channels = [16, 24, 40, 80, 112, 192, 320]\n",
    "        num_layers = [1, 2, 2, 3, 3, 4, 1]\n",
    "        strides = [1, 2, 2, 2, 1, 2, 1]\n",
    "        \"\"\"\n",
    "        # personal for this specific problem\n",
    "        \n",
    "        kernels = [3, 3, 3, 3]\n",
    "        expansions = [1, 4, 4, 4]\n",
    "        num_channels = [8, 16, 24, 32]\n",
    "        num_layers = [1, 2, 2, 3]\n",
    "        strides = [1, 2, 2, 2]\n",
    "        \n",
    "        # scale channels and num_layers according to width and depth factors\n",
    "        scaled_num_channels = [4*ceil(int(c * width_factor) / 4) for c in num_channels]\n",
    "        scaled_num_layers = [int(d * depth_factor) for d in num_layers]\n",
    "        \n",
    "        for i in range(len(scaled_num_channels)):\n",
    "            layers += [MBConvBlock(in_channels if repeat == 0 else scaled_num_channels[i],\n",
    "                                   scaled_num_channels[i],\n",
    "                                   kernel_size=kernels[i],\n",
    "                                   stride=strides[i] if repeat == 0 else 1,\n",
    "                                   expansion_factor=expansions[i]\n",
    "                                  )\n",
    "                      for repeat in range(scaled_num_layers[i])\n",
    "                      ]\n",
    "            in_channels = scaled_num_channels[i]\n",
    "            \n",
    "        layers.append(ConvBlock(in_channels, last_channel, kernel_size=1, stride=1, padding=0))\n",
    "        \n",
    "        return nn.Sequential(*layers)"
   ]
  },
  {
   "cell_type": "code",
   "execution_count": 9,
   "id": "7a47500c-93e6-4545-96c1-e0edf892e369",
   "metadata": {},
   "outputs": [],
   "source": [
    "# well-known efficient configuration\n",
    "\"\"\"\n",
    "efficient_net_config = {\n",
    "    # tuple of width factor, depth factor, resolution, and Survival Prob\n",
    "    \"b0\" : (1.0, 1.0, 224, 0.2),\n",
    "    \"b1\" : (1.0, 1.1, 240, 0.2),\n",
    "    \"b2\" : (1.1, 1.2, 260, 0.3),\n",
    "    \"b3\" : (1.2, 1.4, 300, 0.3),\n",
    "    \"b4\" : (1.4, 1.8, 380, 0.4),\n",
    "    \"b5\" : (1.6, 2.2, 456, 0.4),\n",
    "    \"b6\" : (1.8, 2.6, 528, 0.5),\n",
    "    \"b7\" : (2.0, 3.1, 600, 0.5)\n",
    "}\n",
    "\"\"\"\n",
    "\n",
    "# for this specific problem \n",
    "efficient_net_config = {\n",
    "    # tuple of width factor, depth factor, resolution, and Survival Prob\n",
    "    \"b0\" : (1.0, 1.0, 28, 0.2),\n",
    "    \"b1\" : (1.0, 1.1, 28, 0.2),\n",
    "    \"b2\" : (1.1, 1.2, 28, 0.3)\n",
    "}"
   ]
  },
  {
   "cell_type": "code",
   "execution_count": 10,
   "id": "496d2f27-e233-438d-b53d-bb41c06d77d7",
   "metadata": {},
   "outputs": [
    {
     "data": {
      "text/plain": [
       "====================================================================================================\n",
       "Layer (type:depth-idx)                             Output Shape              Param #\n",
       "====================================================================================================\n",
       "EfficientNet                                       [64, 10]                  --\n",
       "├─Sequential: 1-1                                  [64, 128, 2, 2]           --\n",
       "│    └─ConvBlock: 2-1                              [64, 16, 14, 14]          --\n",
       "│    │    └─Conv2d: 3-1                            [64, 16, 14, 14]          144\n",
       "│    │    └─BatchNorm2d: 3-2                       [64, 16, 14, 14]          32\n",
       "│    │    └─SiLU: 3-3                              [64, 16, 14, 14]          --\n",
       "│    └─MBConvBlock: 2-2                            [64, 8, 14, 14]           --\n",
       "│    │    └─Identity: 3-4                          [64, 16, 14, 14]          --\n",
       "│    │    └─ConvBlock: 3-5                         [64, 16, 14, 14]          176\n",
       "│    │    └─SqueezeExcitation: 3-6                 [64, 16, 14, 14]          148\n",
       "│    │    └─ConvBlock: 3-7                         [64, 8, 14, 14]           144\n",
       "│    └─MBConvBlock: 2-3                            [64, 16, 7, 7]            --\n",
       "│    │    └─ConvBlock: 3-8                         [64, 32, 14, 14]          320\n",
       "│    │    └─ConvBlock: 3-9                         [64, 32, 7, 7]            352\n",
       "│    │    └─SqueezeExcitation: 3-10                [64, 32, 7, 7]            162\n",
       "│    │    └─ConvBlock: 3-11                        [64, 16, 7, 7]            544\n",
       "│    └─MBConvBlock: 2-4                            [64, 16, 7, 7]            --\n",
       "│    │    └─ConvBlock: 3-12                        [64, 64, 7, 7]            1,152\n",
       "│    │    └─ConvBlock: 3-13                        [64, 64, 7, 7]            704\n",
       "│    │    └─SqueezeExcitation: 3-14                [64, 64, 7, 7]            580\n",
       "│    │    └─ConvBlock: 3-15                        [64, 16, 7, 7]            1,056\n",
       "│    │    └─StochasticDepth: 3-16                  [64, 16, 7, 7]            --\n",
       "│    └─MBConvBlock: 2-5                            [64, 24, 4, 4]            --\n",
       "│    │    └─ConvBlock: 3-17                        [64, 64, 7, 7]            1,152\n",
       "│    │    └─ConvBlock: 3-18                        [64, 64, 4, 4]            704\n",
       "│    │    └─SqueezeExcitation: 3-19                [64, 64, 4, 4]            580\n",
       "│    │    └─ConvBlock: 3-20                        [64, 24, 4, 4]            1,584\n",
       "│    └─MBConvBlock: 2-6                            [64, 24, 4, 4]            --\n",
       "│    │    └─ConvBlock: 3-21                        [64, 96, 4, 4]            2,496\n",
       "│    │    └─ConvBlock: 3-22                        [64, 96, 4, 4]            1,056\n",
       "│    │    └─SqueezeExcitation: 3-23                [64, 96, 4, 4]            1,254\n",
       "│    │    └─ConvBlock: 3-24                        [64, 24, 4, 4]            2,352\n",
       "│    │    └─StochasticDepth: 3-25                  [64, 24, 4, 4]            --\n",
       "│    └─MBConvBlock: 2-7                            [64, 32, 2, 2]            --\n",
       "│    │    └─ConvBlock: 3-26                        [64, 96, 4, 4]            2,496\n",
       "│    │    └─ConvBlock: 3-27                        [64, 96, 2, 2]            1,056\n",
       "│    │    └─SqueezeExcitation: 3-28                [64, 96, 2, 2]            1,254\n",
       "│    │    └─ConvBlock: 3-29                        [64, 32, 2, 2]            3,136\n",
       "│    └─MBConvBlock: 2-8                            [64, 32, 2, 2]            --\n",
       "│    │    └─ConvBlock: 3-30                        [64, 128, 2, 2]           4,352\n",
       "│    │    └─ConvBlock: 3-31                        [64, 128, 2, 2]           1,408\n",
       "│    │    └─SqueezeExcitation: 3-32                [64, 128, 2, 2]           2,184\n",
       "│    │    └─ConvBlock: 3-33                        [64, 32, 2, 2]            4,160\n",
       "│    │    └─StochasticDepth: 3-34                  [64, 32, 2, 2]            --\n",
       "│    └─MBConvBlock: 2-9                            [64, 32, 2, 2]            --\n",
       "│    │    └─ConvBlock: 3-35                        [64, 128, 2, 2]           4,352\n",
       "│    │    └─ConvBlock: 3-36                        [64, 128, 2, 2]           1,408\n",
       "│    │    └─SqueezeExcitation: 3-37                [64, 128, 2, 2]           2,184\n",
       "│    │    └─ConvBlock: 3-38                        [64, 32, 2, 2]            4,160\n",
       "│    │    └─StochasticDepth: 3-39                  [64, 32, 2, 2]            --\n",
       "│    └─ConvBlock: 2-10                             [64, 128, 2, 2]           --\n",
       "│    │    └─Conv2d: 3-40                           [64, 128, 2, 2]           4,096\n",
       "│    │    └─BatchNorm2d: 3-41                      [64, 128, 2, 2]           256\n",
       "│    │    └─SiLU: 3-42                             [64, 128, 2, 2]           --\n",
       "├─AdaptiveAvgPool2d: 1-2                           [64, 128, 1, 1]           --\n",
       "├─Sequential: 1-3                                  [64, 10]                  --\n",
       "│    └─Dropout: 2-11                               [64, 128]                 --\n",
       "│    └─Linear: 2-12                                [64, 10]                  1,290\n",
       "====================================================================================================\n",
       "Total params: 54,484\n",
       "Trainable params: 54,484\n",
       "Non-trainable params: 0\n",
       "Total mult-adds (M): 40.16\n",
       "====================================================================================================\n",
       "Input size (MB): 0.20\n",
       "Forward/backward pass size (MB): 37.60\n",
       "Params size (MB): 0.22\n",
       "Estimated Total Size (MB): 38.02\n",
       "===================================================================================================="
      ]
     },
     "execution_count": 10,
     "metadata": {},
     "output_type": "execute_result"
    }
   ],
   "source": [
    "version = 'b0' # choose the desired version\n",
    "width_factor, depth_factor, res, dropout_rate = efficient_net_config[version]\n",
    "model = EfficientNet(width_factor=width_factor, depth_factor=depth_factor, dropout_rate=dropout_rate, num_classes=10).to(device)\n",
    "summary(model, input_size=(BATCH_SIZE, 1, 28, 28))"
   ]
  },
  {
   "cell_type": "markdown",
   "id": "b3da73c9-b021-4ce5-8643-644a31fe76de",
   "metadata": {},
   "source": [
    "## Training and Validation the Model"
   ]
  },
  {
   "cell_type": "code",
   "execution_count": 11,
   "id": "e1295fe4-167d-4a7b-bd67-0b9e6322c311",
   "metadata": {},
   "outputs": [],
   "source": [
    "# loss and optmizer\n",
    "learning_rate = 0.001\n",
    "\n",
    "criterion = nn.CrossEntropyLoss()\n",
    "optimizer = optim.SGD(model.parameters(), lr=learning_rate)"
   ]
  },
  {
   "cell_type": "code",
   "execution_count": 12,
   "id": "aa74bc56-3c94-49fc-910f-f897efb656d8",
   "metadata": {},
   "outputs": [
    {
     "name": "stdout",
     "output_type": "stream",
     "text": [
      "[INFO]: Epoch 1 of 5\n",
      "Training\n"
     ]
    },
    {
     "data": {
      "application/vnd.jupyter.widget-view+json": {
       "model_id": "bf3e94b4e8cc4b05b396c4299c6f16ee",
       "version_major": 2,
       "version_minor": 0
      },
      "text/plain": [
       "  0%|          | 0/844 [00:00<?, ?it/s]"
      ]
     },
     "metadata": {},
     "output_type": "display_data"
    },
    {
     "name": "stdout",
     "output_type": "stream",
     "text": [
      "\n",
      "\n",
      "Validation\n"
     ]
    },
    {
     "data": {
      "application/vnd.jupyter.widget-view+json": {
       "model_id": "46efe081f2b94ef88c312afb7bd91c61",
       "version_major": 2,
       "version_minor": 0
      },
      "text/plain": [
       "  0%|          | 0/94 [00:00<?, ?it/s]"
      ]
     },
     "metadata": {},
     "output_type": "display_data"
    },
    {
     "name": "stdout",
     "output_type": "stream",
     "text": [
      "\n",
      "\n",
      "training loss: 2.280, training acc: 14.961%\n",
      "validation loss: 2.217, validation acc: 25.483%\n",
      "--------------------------------------------------\n",
      "[INFO]: Epoch 2 of 5\n",
      "Training\n"
     ]
    },
    {
     "data": {
      "application/vnd.jupyter.widget-view+json": {
       "model_id": "b0cbf4f3b14e4337832dfb2b33e483fb",
       "version_major": 2,
       "version_minor": 0
      },
      "text/plain": [
       "  0%|          | 0/844 [00:00<?, ?it/s]"
      ]
     },
     "metadata": {},
     "output_type": "display_data"
    },
    {
     "name": "stdout",
     "output_type": "stream",
     "text": [
      "\n",
      "\n",
      "Validation\n"
     ]
    },
    {
     "data": {
      "application/vnd.jupyter.widget-view+json": {
       "model_id": "daf36dec9e0041c898da99edf0d825d6",
       "version_major": 2,
       "version_minor": 0
      },
      "text/plain": [
       "  0%|          | 0/94 [00:00<?, ?it/s]"
      ]
     },
     "metadata": {},
     "output_type": "display_data"
    },
    {
     "name": "stdout",
     "output_type": "stream",
     "text": [
      "\n",
      "\n",
      "training loss: 2.153, training acc: 26.628%\n",
      "validation loss: 2.054, validation acc: 37.367%\n",
      "--------------------------------------------------\n",
      "[INFO]: Epoch 3 of 5\n",
      "Training\n"
     ]
    },
    {
     "data": {
      "application/vnd.jupyter.widget-view+json": {
       "model_id": "fa12971a93bd47dcbe5f858bc121dcd7",
       "version_major": 2,
       "version_minor": 0
      },
      "text/plain": [
       "  0%|          | 0/844 [00:00<?, ?it/s]"
      ]
     },
     "metadata": {},
     "output_type": "display_data"
    },
    {
     "name": "stdout",
     "output_type": "stream",
     "text": [
      "\n",
      "\n",
      "Validation\n"
     ]
    },
    {
     "data": {
      "application/vnd.jupyter.widget-view+json": {
       "model_id": "c511ef511dc74f7fb630d77ce7c04f99",
       "version_major": 2,
       "version_minor": 0
      },
      "text/plain": [
       "  0%|          | 0/94 [00:00<?, ?it/s]"
      ]
     },
     "metadata": {},
     "output_type": "display_data"
    },
    {
     "name": "stdout",
     "output_type": "stream",
     "text": [
      "\n",
      "\n",
      "training loss: 1.968, training acc: 37.680%\n",
      "validation loss: 1.835, validation acc: 48.950%\n",
      "--------------------------------------------------\n",
      "[INFO]: Epoch 4 of 5\n",
      "Training\n"
     ]
    },
    {
     "data": {
      "application/vnd.jupyter.widget-view+json": {
       "model_id": "b5546550976042158f6bd6b11cb5c8e2",
       "version_major": 2,
       "version_minor": 0
      },
      "text/plain": [
       "  0%|          | 0/844 [00:00<?, ?it/s]"
      ]
     },
     "metadata": {},
     "output_type": "display_data"
    },
    {
     "name": "stdout",
     "output_type": "stream",
     "text": [
      "\n",
      "\n",
      "Validation\n"
     ]
    },
    {
     "data": {
      "application/vnd.jupyter.widget-view+json": {
       "model_id": "7f3f77e7d0dc4e2eab28345b8ba99010",
       "version_major": 2,
       "version_minor": 0
      },
      "text/plain": [
       "  0%|          | 0/94 [00:00<?, ?it/s]"
      ]
     },
     "metadata": {},
     "output_type": "display_data"
    },
    {
     "name": "stdout",
     "output_type": "stream",
     "text": [
      "\n",
      "\n",
      "training loss: 1.746, training acc: 47.731%\n",
      "validation loss: 1.523, validation acc: 58.583%\n",
      "--------------------------------------------------\n",
      "[INFO]: Epoch 5 of 5\n",
      "Training\n"
     ]
    },
    {
     "data": {
      "application/vnd.jupyter.widget-view+json": {
       "model_id": "37815df09ddf41368d3d954541ee2c53",
       "version_major": 2,
       "version_minor": 0
      },
      "text/plain": [
       "  0%|          | 0/844 [00:00<?, ?it/s]"
      ]
     },
     "metadata": {},
     "output_type": "display_data"
    },
    {
     "name": "stdout",
     "output_type": "stream",
     "text": [
      "\n",
      "\n",
      "Validation\n"
     ]
    },
    {
     "data": {
      "application/vnd.jupyter.widget-view+json": {
       "model_id": "35a69129bfc243fbbd171cd8172d8bee",
       "version_major": 2,
       "version_minor": 0
      },
      "text/plain": [
       "  0%|          | 0/94 [00:00<?, ?it/s]"
      ]
     },
     "metadata": {},
     "output_type": "display_data"
    },
    {
     "name": "stdout",
     "output_type": "stream",
     "text": [
      "\n",
      "\n",
      "training loss: 1.519, training acc: 56.446%\n",
      "validation loss: 1.301, validation acc: 66.150%\n",
      "--------------------------------------------------\n"
     ]
    }
   ],
   "source": [
    "EPOCHS = 5 #100\n",
    "\n",
    "for epoch in range(EPOCHS):\n",
    "    print(f\"[INFO]: Epoch {epoch+1} of {EPOCHS}\")\n",
    "    train_epoch_loss, train_epoch_acc = train(model, train_loader, optimizer, criterion)\n",
    "    print('\\n')\n",
    "    val_epoch_loss, val_epoch_acc = test(model, val_loader, criterion)\n",
    "    \n",
    "    print('\\n')\n",
    "    print(f\"training loss: {train_epoch_loss:.3f}, training acc: {train_epoch_acc:.3f}%\")\n",
    "    print(f\"validation loss: {val_epoch_loss:.3f}, validation acc: {val_epoch_acc:.3f}%\")\n",
    "    print('-'*50)"
   ]
  },
  {
   "cell_type": "code",
   "execution_count": 13,
   "id": "35707849-94c8-4e52-b941-454241714d96",
   "metadata": {},
   "outputs": [],
   "source": [
    "\"\"\"\n",
    "# save the trained model to disk\n",
    "torch.save({\n",
    "            'epoch': epochs,\n",
    "            'model_state_dict': model.state_dict(),\n",
    "            'optimizer_state_dict': optimizer.state_dict(),\n",
    "            'loss': criterion,\n",
    "            }, './model.pth')\n",
    "\"\"\";"
   ]
  }
 ],
 "metadata": {
  "kernelspec": {
   "display_name": "Python 3 (ipykernel)",
   "language": "python",
   "name": "python3"
  },
  "language_info": {
   "codemirror_mode": {
    "name": "ipython",
    "version": 3
   },
   "file_extension": ".py",
   "mimetype": "text/x-python",
   "name": "python",
   "nbconvert_exporter": "python",
   "pygments_lexer": "ipython3",
   "version": "3.9.13"
  }
 },
 "nbformat": 4,
 "nbformat_minor": 5
}
