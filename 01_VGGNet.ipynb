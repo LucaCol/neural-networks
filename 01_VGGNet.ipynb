{
 "cells": [
  {
   "cell_type": "code",
   "execution_count": 1,
   "id": "bb4f7f3c-166b-49f7-8d0e-8cd56b33226d",
   "metadata": {},
   "outputs": [],
   "source": [
    "import torch\n",
    "import torch.nn as nn\n",
    "import torch.optim as optim\n",
    "import torchvision\n",
    "import torchvision.transforms as transforms\n",
    "from torchinfo import summary\n",
    "from torch.utils.data import DataLoader, Subset\n",
    "from sklearn.model_selection import train_test_split\n",
    "import matplotlib.pyplot as plt\n",
    "#from tqdm.notebook import tqdm\n",
    "\n",
    "from train_test import train, test\n",
    "\n",
    "# device configuration\n",
    "device = torch.device('cuda' if torch.cuda.is_available() else 'cpu')"
   ]
  },
  {
   "cell_type": "markdown",
   "id": "948e4808-f4c9-4aae-9077-9e01b545a0e3",
   "metadata": {
    "tags": []
   },
   "source": [
    "## MNIST Dataset"
   ]
  },
  {
   "cell_type": "code",
   "execution_count": 2,
   "id": "5f230b6f-d17c-42b6-88f2-a32c31ab9c5f",
   "metadata": {},
   "outputs": [
    {
     "name": "stdout",
     "output_type": "stream",
     "text": [
      "844\n",
      "94\n",
      "157\n"
     ]
    }
   ],
   "source": [
    "VAL_SIZE = 0.1\n",
    "BATCH_SIZE = 64\n",
    "\n",
    "# download the training and testing datasets\n",
    "train_dataset = torchvision.datasets.MNIST(root='./data',\n",
    "                                           train=True,\n",
    "                                           transform=transforms.ToTensor(),\n",
    "                                           download=True)\n",
    "\n",
    "test_dataset = torchvision.datasets.MNIST(root='./root',\n",
    "                                          train=False,\n",
    "                                          transform=transforms.ToTensor(),\n",
    "                                          download=True)\n",
    "\n",
    "# split the training set into train and validation sets\n",
    "train_indices, val_indices, _, _ = train_test_split(range(len(train_dataset)),\n",
    "                                                    train_dataset.targets,\n",
    "                                                    stratify=train_dataset.targets,\n",
    "                                                    test_size=VAL_SIZE)\n",
    "\n",
    "train_split = Subset(train_dataset, train_indices)\n",
    "val_split = Subset(train_dataset, val_indices)\n",
    "\n",
    "# now create the batches of the train, val, test sets\n",
    "train_loader = DataLoader(train_split, batch_size=BATCH_SIZE, shuffle=True)\n",
    "val_loader = DataLoader(val_split, batch_size=BATCH_SIZE, shuffle=True)\n",
    "test_loader = DataLoader(test_dataset, batch_size=BATCH_SIZE, shuffle=True)\n",
    "\n",
    "print(len(train_loader))\n",
    "print(len(val_loader))\n",
    "print(len(test_loader))"
   ]
  },
  {
   "cell_type": "code",
   "execution_count": 3,
   "id": "98aa0671-5fb8-4f9a-9219-a46e8da47253",
   "metadata": {},
   "outputs": [
    {
     "name": "stdout",
     "output_type": "stream",
     "text": [
      "torch.Size([28, 28])\n"
     ]
    },
    {
     "data": {
      "image/png": "[encoded data removed]",
      "text/plain": [
       "<Figure size 640x480 with 6 Axes>"
      ]
     },
     "metadata": {},
     "output_type": "display_data"
    }
   ],
   "source": [
    "# show some samples from test set\n",
    "\n",
    "samples = iter(test_loader)\n",
    "sample_data, sample_targets = next(samples)\n",
    "print((sample_data[0][0]).size())\n",
    "\n",
    "for i in range(6):\n",
    "    plt.subplot(2, 3, i+1)\n",
    "    plt.imshow(sample_data[i][0], cmap='gray')\n",
    "plt.show()"
   ]
  },
  {
   "cell_type": "markdown",
   "id": "422e201f-0f18-477b-b294-128d1086a246",
   "metadata": {},
   "source": [
    "## Model"
   ]
  },
  {
   "cell_type": "code",
   "execution_count": 4,
   "id": "9e5c501a-2c55-4d27-8c95-8d3ae9b87e5c",
   "metadata": {},
   "outputs": [],
   "source": [
    "# vgg style convolutional neural network\n",
    "class VGG(nn.Module):\n",
    "    def __init__(self, num_classes):\n",
    "        super(VGG, self).__init__()\n",
    "        self.conv1_1 = nn.Conv2d(in_channels=1, out_channels=8, kernel_size=3, padding=1, bias=False)\n",
    "        self.conv1_2 = nn.Conv2d(in_channels=8, out_channels=8, kernel_size=3, padding=1, bias=False)\n",
    "        self.conv1_1bn = nn.BatchNorm2d(8)\n",
    "        self.conv1_2bn = nn.BatchNorm2d(8)\n",
    "        \n",
    "        self.conv2_1 = nn.Conv2d(in_channels=8, out_channels=16, kernel_size=3, padding=1, bias=False)\n",
    "        self.conv2_2 = nn.Conv2d(in_channels=16, out_channels=16, kernel_size=3, padding=1, bias=False)\n",
    "        self.conv2_1bn = nn.BatchNorm2d(16)\n",
    "        self.conv2_2bn = nn.BatchNorm2d(16)\n",
    "        \n",
    "        self.conv3_1 = nn.Conv2d(in_channels=16, out_channels=32, kernel_size=3, padding=1, bias=False)\n",
    "        self.conv3_2 = nn.Conv2d(in_channels=32, out_channels=32, kernel_size=3, padding=1, bias=False)\n",
    "        self.conv3_1bn = nn.BatchNorm2d(32)\n",
    "        self.conv3_2bn = nn.BatchNorm2d(32)\n",
    "        \n",
    "        # here we have two options use adaptive pooling to reduce the tensor into 1-dimensions\n",
    "        # or use the moltiplication of the last layer to linearize this one\n",
    "        \n",
    "        # case adaptive pooling\n",
    "        # self.adaptpool = nn.AdaptiveAvgPool2d((1,1))\n",
    "        # self.fc1 = nn.Linear(3, 128)\n",
    "        # self.fc2 = nn.Linear(128, 10)\n",
    "        \n",
    "        # case linearization last convolutional layer, this one is used in the original vgg\n",
    "        self.fc1 = nn.Linear(3*3*32, 256)\n",
    "        self.fc2 = nn.Linear(256, num_classes)\n",
    "        \n",
    "        # add the other functions\n",
    "        self.maxpool = nn.MaxPool2d(kernel_size=2, stride=2) # (2,2) halves the dimension of the output\n",
    "        self.relu = nn.ReLU()\n",
    "        \n",
    "    def forward(self, x):\n",
    "        # first convolutional block\n",
    "        x = self.relu(self.conv1_1bn(self.conv1_1(x)))\n",
    "        x = self.relu(self.conv1_2bn(self.conv1_2(x)))\n",
    "        x = self.maxpool(x)\n",
    "        \n",
    "        # second convolutional block\n",
    "        x = self.relu(self.conv2_1bn(self.conv2_1(x)))\n",
    "        x = self.relu(self.conv2_2bn(self.conv2_2(x)))\n",
    "        x = self.maxpool(x)\n",
    "        \n",
    "        # third convolutional block\n",
    "        x = self.relu(self.conv3_1bn(self.conv3_1(x)))\n",
    "        x = self.relu(self.conv3_2bn(self.conv3_2(x)))\n",
    "        x = self.maxpool(x)\n",
    "        \n",
    "        # fully connected block\n",
    "        x = x.reshape(x.shape[0], -1) # flatten the out in a single vector\n",
    "        x = self.relu(self.fc1(x))\n",
    "        x = self.fc2(x)\n",
    "        \n",
    "        return x "
   ]
  },
  {
   "cell_type": "code",
   "execution_count": 5,
   "id": "f7da505b-585f-4ee5-866c-66eae7838469",
   "metadata": {},
   "outputs": [
    {
     "data": {
      "text/plain": [
       "==========================================================================================\n",
       "Layer (type:depth-idx)                   Output Shape              Param #\n",
       "==========================================================================================\n",
       "VGG                                      [64, 10]                  --\n",
       "├─Conv2d: 1-1                            [64, 8, 28, 28]           72\n",
       "├─BatchNorm2d: 1-2                       [64, 8, 28, 28]           16\n",
       "├─ReLU: 1-3                              [64, 8, 28, 28]           --\n",
       "├─Conv2d: 1-4                            [64, 8, 28, 28]           576\n",
       "├─BatchNorm2d: 1-5                       [64, 8, 28, 28]           16\n",
       "├─ReLU: 1-6                              [64, 8, 28, 28]           --\n",
       "├─MaxPool2d: 1-7                         [64, 8, 14, 14]           --\n",
       "├─Conv2d: 1-8                            [64, 16, 14, 14]          1,152\n",
       "├─BatchNorm2d: 1-9                       [64, 16, 14, 14]          32\n",
       "├─ReLU: 1-10                             [64, 16, 14, 14]          --\n",
       "├─Conv2d: 1-11                           [64, 16, 14, 14]          2,304\n",
       "├─BatchNorm2d: 1-12                      [64, 16, 14, 14]          32\n",
       "├─ReLU: 1-13                             [64, 16, 14, 14]          --\n",
       "├─MaxPool2d: 1-14                        [64, 16, 7, 7]            --\n",
       "├─Conv2d: 1-15                           [64, 32, 7, 7]            4,608\n",
       "├─BatchNorm2d: 1-16                      [64, 32, 7, 7]            64\n",
       "├─ReLU: 1-17                             [64, 32, 7, 7]            --\n",
       "├─Conv2d: 1-18                           [64, 32, 7, 7]            9,216\n",
       "├─BatchNorm2d: 1-19                      [64, 32, 7, 7]            64\n",
       "├─ReLU: 1-20                             [64, 32, 7, 7]            --\n",
       "├─MaxPool2d: 1-21                        [64, 32, 3, 3]            --\n",
       "├─Linear: 1-22                           [64, 256]                 73,984\n",
       "├─ReLU: 1-23                             [64, 256]                 --\n",
       "├─Linear: 1-24                           [64, 10]                  2,570\n",
       "==========================================================================================\n",
       "Total params: 94,706\n",
       "Trainable params: 94,706\n",
       "Non-trainable params: 0\n",
       "Total mult-adds (M): 124.13\n",
       "==========================================================================================\n",
       "Input size (MB): 0.20\n",
       "Forward/backward pass size (MB): 22.62\n",
       "Params size (MB): 0.38\n",
       "Estimated Total Size (MB): 23.19\n",
       "=========================================================================================="
      ]
     },
     "execution_count": 5,
     "metadata": {},
     "output_type": "execute_result"
    }
   ],
   "source": [
    "num_classes = 10\n",
    "model = VGG(num_classes).to(device)\n",
    "summary(model, input_size=(BATCH_SIZE, 1, 28, 28))"
   ]
  },
  {
   "cell_type": "markdown",
   "id": "7faf2da9-275d-43c9-a9af-db336469c8f3",
   "metadata": {},
   "source": [
    "## Training and Validation the Model"
   ]
  },
  {
   "cell_type": "code",
   "execution_count": 6,
   "id": "b41e68bf-8ede-4678-a60c-c797059d643e",
   "metadata": {},
   "outputs": [],
   "source": [
    "# loss and optmizer\n",
    "learning_rate = 0.001\n",
    "\n",
    "criterion = nn.CrossEntropyLoss()\n",
    "optimizer = optim.SGD(model.parameters(), lr=learning_rate)"
   ]
  },
  {
   "cell_type": "code",
   "execution_count": 7,
   "id": "e20baa97-2096-46ba-b166-1bfb7dccb1ca",
   "metadata": {},
   "outputs": [
    {
     "name": "stdout",
     "output_type": "stream",
     "text": [
      "[INFO]: Epoch 1 of 5\n",
      "Training\n"
     ]
    },
    {
     "data": {
      "application/vnd.jupyter.widget-view+json": {
       "model_id": "7c26a299ed1c4ff2a98672d7f889f9b8",
       "version_major": 2,
       "version_minor": 0
      },
      "text/plain": [
       "  0%|          | 0/844 [00:00<?, ?it/s]"
      ]
     },
     "metadata": {},
     "output_type": "display_data"
    },
    {
     "name": "stdout",
     "output_type": "stream",
     "text": [
      "\n",
      "\n",
      "Validation\n"
     ]
    },
    {
     "data": {
      "application/vnd.jupyter.widget-view+json": {
       "model_id": "57c84c040cde4b168eb30eb3df043d7c",
       "version_major": 2,
       "version_minor": 0
      },
      "text/plain": [
       "  0%|          | 0/94 [00:00<?, ?it/s]"
      ]
     },
     "metadata": {},
     "output_type": "display_data"
    },
    {
     "name": "stdout",
     "output_type": "stream",
     "text": [
      "\n",
      "\n",
      "training loss: 1.670, training acc: 65.002%\n",
      "validation loss: 1.029, validation acc: 85.550%\n",
      "--------------------------------------------------\n",
      "[INFO]: Epoch 2 of 5\n",
      "Training\n"
     ]
    },
    {
     "data": {
      "application/vnd.jupyter.widget-view+json": {
       "model_id": "c74ab8c517f64da88930c68d3e9890f2",
       "version_major": 2,
       "version_minor": 0
      },
      "text/plain": [
       "  0%|          | 0/844 [00:00<?, ?it/s]"
      ]
     },
     "metadata": {},
     "output_type": "display_data"
    },
    {
     "name": "stdout",
     "output_type": "stream",
     "text": [
      "\n",
      "\n",
      "Validation\n"
     ]
    },
    {
     "data": {
      "application/vnd.jupyter.widget-view+json": {
       "model_id": "a4c0c71f5e484184b50760a07a0e32c2",
       "version_major": 2,
       "version_minor": 0
      },
      "text/plain": [
       "  0%|          | 0/94 [00:00<?, ?it/s]"
      ]
     },
     "metadata": {},
     "output_type": "display_data"
    },
    {
     "name": "stdout",
     "output_type": "stream",
     "text": [
      "\n",
      "\n",
      "training loss: 0.673, training acc: 90.235%\n",
      "validation loss: 0.427, validation acc: 93.050%\n",
      "--------------------------------------------------\n",
      "[INFO]: Epoch 3 of 5\n",
      "Training\n"
     ]
    },
    {
     "data": {
      "application/vnd.jupyter.widget-view+json": {
       "model_id": "890803545dbb49b7b39cb16212b9faf5",
       "version_major": 2,
       "version_minor": 0
      },
      "text/plain": [
       "  0%|          | 0/844 [00:00<?, ?it/s]"
      ]
     },
     "metadata": {},
     "output_type": "display_data"
    },
    {
     "name": "stdout",
     "output_type": "stream",
     "text": [
      "\n",
      "\n",
      "Validation\n"
     ]
    },
    {
     "data": {
      "application/vnd.jupyter.widget-view+json": {
       "model_id": "9b761e4d56874f3c9b67f43b360f30a0",
       "version_major": 2,
       "version_minor": 0
      },
      "text/plain": [
       "  0%|          | 0/94 [00:00<?, ?it/s]"
      ]
     },
     "metadata": {},
     "output_type": "display_data"
    },
    {
     "name": "stdout",
     "output_type": "stream",
     "text": [
      "\n",
      "\n",
      "training loss: 0.328, training acc: 94.270%\n",
      "validation loss: 0.248, validation acc: 95.283%\n",
      "--------------------------------------------------\n",
      "[INFO]: Epoch 4 of 5\n",
      "Training\n"
     ]
    },
    {
     "data": {
      "application/vnd.jupyter.widget-view+json": {
       "model_id": "7b193463873b4cc98a20a7ee76fdf50d",
       "version_major": 2,
       "version_minor": 0
      },
      "text/plain": [
       "  0%|          | 0/844 [00:00<?, ?it/s]"
      ]
     },
     "metadata": {},
     "output_type": "display_data"
    },
    {
     "name": "stdout",
     "output_type": "stream",
     "text": [
      "\n",
      "\n",
      "Validation\n"
     ]
    },
    {
     "data": {
      "application/vnd.jupyter.widget-view+json": {
       "model_id": "0db96924fcea4bf6931b3c535850747c",
       "version_major": 2,
       "version_minor": 0
      },
      "text/plain": [
       "  0%|          | 0/94 [00:00<?, ?it/s]"
      ]
     },
     "metadata": {},
     "output_type": "display_data"
    },
    {
     "name": "stdout",
     "output_type": "stream",
     "text": [
      "\n",
      "\n",
      "training loss: 0.215, training acc: 95.639%\n",
      "validation loss: 0.181, validation acc: 96.050%\n",
      "--------------------------------------------------\n",
      "[INFO]: Epoch 5 of 5\n",
      "Training\n"
     ]
    },
    {
     "data": {
      "application/vnd.jupyter.widget-view+json": {
       "model_id": "cd222cfe70864c8aa6f0fcea43d96e20",
       "version_major": 2,
       "version_minor": 0
      },
      "text/plain": [
       "  0%|          | 0/844 [00:00<?, ?it/s]"
      ]
     },
     "metadata": {},
     "output_type": "display_data"
    },
    {
     "name": "stdout",
     "output_type": "stream",
     "text": [
      "\n",
      "\n",
      "Validation\n"
     ]
    },
    {
     "data": {
      "application/vnd.jupyter.widget-view+json": {
       "model_id": "a0680dfa34cb41dfa522b25b4450fb05",
       "version_major": 2,
       "version_minor": 0
      },
      "text/plain": [
       "  0%|          | 0/94 [00:00<?, ?it/s]"
      ]
     },
     "metadata": {},
     "output_type": "display_data"
    },
    {
     "name": "stdout",
     "output_type": "stream",
     "text": [
      "\n",
      "\n",
      "training loss: 0.165, training acc: 96.274%\n",
      "validation loss: 0.145, validation acc: 96.667%\n",
      "--------------------------------------------------\n"
     ]
    }
   ],
   "source": [
    "EPOCHS = 5 #100\n",
    "\n",
    "for epoch in range(EPOCHS):\n",
    "    print(f\"[INFO]: Epoch {epoch+1} of {EPOCHS}\")\n",
    "    train_epoch_loss, train_epoch_acc = train(model, train_loader, optimizer, criterion)\n",
    "    print('\\n')\n",
    "    val_epoch_loss, val_epoch_acc = test(model, val_loader, criterion)\n",
    "    \n",
    "    print('\\n')\n",
    "    print(f\"training loss: {train_epoch_loss:.3f}, training acc: {train_epoch_acc:.3f}%\")\n",
    "    print(f\"validation loss: {val_epoch_loss:.3f}, validation acc: {val_epoch_acc:.3f}%\")\n",
    "    print('-'*50)"
   ]
  },
  {
   "cell_type": "code",
   "execution_count": 8,
   "id": "1f2d2800-308d-461f-8d32-27bfc849773c",
   "metadata": {},
   "outputs": [],
   "source": [
    "\"\"\"\n",
    "# save the trained model to disk\n",
    "torch.save({\n",
    "            'epoch': epochs,\n",
    "            'model_state_dict': model.state_dict(),\n",
    "            'optimizer_state_dict': optimizer.state_dict(),\n",
    "            'loss': criterion,\n",
    "            }, './model.pth')\n",
    "\"\"\";"
   ]
  }
 ],
 "metadata": {
  "kernelspec": {
   "display_name": "Python 3 (ipykernel)",
   "language": "python",
   "name": "python3"
  },
  "language_info": {
   "codemirror_mode": {
    "name": "ipython",
    "version": 3
   },
   "file_extension": ".py",
   "mimetype": "text/x-python",
   "name": "python",
   "nbconvert_exporter": "python",
   "pygments_lexer": "ipython3",
   "version": "3.9.13"
  }
 },
 "nbformat": 4,
 "nbformat_minor": 5
}
