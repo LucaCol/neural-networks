{
 "cells": [
  {
   "cell_type": "code",
   "execution_count": 1,
   "id": "0481242f-52a6-42ff-bbd9-f1d2f67b54b5",
   "metadata": {},
   "outputs": [],
   "source": [
    "import torch\n",
    "import torch.nn as nn\n",
    "import torch.optim as optim\n",
    "import torchvision\n",
    "import torchvision.transforms as transforms\n",
    "from torchinfo import summary\n",
    "from torch.utils.data import DataLoader, Subset\n",
    "from sklearn.model_selection import train_test_split\n",
    "import matplotlib.pyplot as plt\n",
    "from math import ceil\n",
    "#from tqdm.notebook import tqdm\n",
    "\n",
    "from train_test_aux import train, test\n",
    "\n",
    "# device configuration\n",
    "device = torch.device('cuda' if torch.cuda.is_available() else 'cpu')"
   ]
  },
  {
   "cell_type": "markdown",
   "id": "748e5f2f-408e-4390-9f95-98635748692a",
   "metadata": {
    "tags": []
   },
   "source": [
    "## MNIST Dataset"
   ]
  },
  {
   "cell_type": "code",
   "execution_count": 2,
   "id": "17b1a4e5-260c-419d-a72b-58416404d925",
   "metadata": {},
   "outputs": [
    {
     "name": "stdout",
     "output_type": "stream",
     "text": [
      "844\n",
      "94\n",
      "157\n"
     ]
    }
   ],
   "source": [
    "VAL_SIZE = 0.1\n",
    "BATCH_SIZE = 64\n",
    "\n",
    "# download the training and testing datasets\n",
    "train_dataset = torchvision.datasets.MNIST(root='./data',\n",
    "                                           train=True,\n",
    "                                           transform=transforms.ToTensor(),\n",
    "                                           download=True)\n",
    "\n",
    "test_dataset = torchvision.datasets.MNIST(root='./root',\n",
    "                                          train=False,\n",
    "                                          transform=transforms.ToTensor(),\n",
    "                                          download=True)\n",
    "\n",
    "# split the training set into train and validation sets\n",
    "train_indices, val_indices, _, _ = train_test_split(range(len(train_dataset)),\n",
    "                                                    train_dataset.targets,\n",
    "                                                    stratify=train_dataset.targets,\n",
    "                                                    test_size=VAL_SIZE)\n",
    "\n",
    "train_split = Subset(train_dataset, train_indices)\n",
    "val_split = Subset(train_dataset, val_indices)\n",
    "\n",
    "# now create the batches of the train, val, test sets\n",
    "train_loader = DataLoader(train_split, batch_size=BATCH_SIZE, shuffle=True)\n",
    "val_loader = DataLoader(val_split, batch_size=BATCH_SIZE, shuffle=True)\n",
    "test_loader = DataLoader(test_dataset, batch_size=BATCH_SIZE, shuffle=True)\n",
    "\n",
    "print(len(train_loader))\n",
    "print(len(val_loader))\n",
    "print(len(test_loader))"
   ]
  },
  {
   "cell_type": "code",
   "execution_count": 3,
   "id": "79869f38-c9bb-4163-b966-975e0bd4a72f",
   "metadata": {},
   "outputs": [
    {
     "name": "stdout",
     "output_type": "stream",
     "text": [
      "torch.Size([28, 28])\n"
     ]
    },
    {
     "data": {
      "image/png": "[encoded data removed]",
      "text/plain": [
       "<Figure size 640x480 with 6 Axes>"
      ]
     },
     "metadata": {},
     "output_type": "display_data"
    }
   ],
   "source": [
    "# show some samples from test set\n",
    "\n",
    "samples = iter(test_loader)\n",
    "sample_data, sample_targets = next(samples)\n",
    "print((sample_data[0][0]).size())\n",
    "\n",
    "for i in range(6):\n",
    "    plt.subplot(2, 3, i+1)\n",
    "    plt.imshow(sample_data[i][0], cmap='gray')\n",
    "plt.show()"
   ]
  },
  {
   "cell_type": "markdown",
   "id": "0b63e578-e803-479d-8296-4686985a7ad9",
   "metadata": {
    "tags": []
   },
   "source": [
    "## Model"
   ]
  },
  {
   "cell_type": "markdown",
   "id": "134e0e9d-a14d-4c86-8313-57522e3fd89d",
   "metadata": {},
   "source": [
    "We build 4 main blocks\n",
    "- Convolutional Block (conv+batchNorm+relu)\n",
    "- Inception Block: each one consists of four parallel blocks\n",
    "    1. Block 1: contain filter with kernel size of 1x1\n",
    "    2. Block 2: contain filter with kernel size of 3x3\n",
    "    3. Block 3: contain filter with kernel size of 5x5\n",
    "    4. Block 4: contain max pooling layer with kernel size of 3x3 followed by filter with kernel size of 1x1\n",
    "- Reduction Inception Block: each one consists of four parallel blocks\n",
    "    1. Block 1: contain filter with kernel size of 1x1\n",
    "    2. Block 2: contain filter with kernel size of 1x1 followed by filter with kernel size of 3x3 (3x3 reduce)\n",
    "    3. Block 3: contain filter with kernel size of 1x1 followed by filter with kernel size of 5x5 (5x5 reduce)\n",
    "    4. Block 4: contain max pooling layer with kernel size of 3x3 followed by filter with kernel size of 1x1\n",
    "- Auxiliary Classifier Block: They are classifier heads we attach to layers before the end of the network. The motivation is to push useful gradients to the lower layers to make them immediately useful and improve the convergence during training by combatting the vanishing gradient problem"
   ]
  },
  {
   "cell_type": "code",
   "execution_count": 4,
   "id": "45271fcd-e106-4f47-b45e-ee11f143276b",
   "metadata": {},
   "outputs": [],
   "source": [
    "# Convolutional Block\n",
    "\n",
    "class ConvBlock(nn.Module):\n",
    "    def __init__(self, in_channels, out_channels, **kwargs):\n",
    "        super(ConvBlock, self).__init__()\n",
    "        \n",
    "        self.conv = nn.Conv2d(in_channels, out_channels, bias=False, **kwargs)\n",
    "        self.conv_bn = nn.BatchNorm2d(out_channels)\n",
    "        self.relu = nn.ReLU()\n",
    "        \n",
    "    def forward(self, x):\n",
    "        x = self.relu(self.conv_bn(self.conv(x)))\n",
    "            \n",
    "        return x"
   ]
  },
  {
   "cell_type": "code",
   "execution_count": 5,
   "id": "91261f8f-ed62-4cf7-a55b-ed85bbc2d3da",
   "metadata": {},
   "outputs": [],
   "source": [
    "class InceptionBlock(nn.Module):\n",
    "    def __init__(self, in_channels, out_1x1, out_3x3, out_5x5, out_1x1pool):\n",
    "        super(InceptionBlock, self).__init__()\n",
    "        \n",
    "        self.branch1 = ConvBlock(in_channels, out_1x1, kernel_size=1)\n",
    "        \n",
    "        self.branch2 = ConvBlock(in_channels, out_3x3, kernel_size=3, padding=1)\n",
    "        \n",
    "        self.branch3 = ConvBlock(in_channels, out_5x5, kernel_size=5, padding=2)\n",
    "        \n",
    "        self.branch4 = nn.Sequential(\n",
    "            nn.MaxPool2d(kernel_size=3, stride=1, padding=1),\n",
    "            ConvBlock(in_channels, out_1x1pool, kernel_size=1)\n",
    "        )\n",
    "        \n",
    "    def forward(self, x):\n",
    "        return torch.cat(\n",
    "            [self.branch1(x), self.branch2(x), self.branch3(x), self.branch4(x)], 1\n",
    "        )"
   ]
  },
  {
   "cell_type": "code",
   "execution_count": 6,
   "id": "122e1f1a-cf52-419c-8130-8aa7f94e2411",
   "metadata": {},
   "outputs": [],
   "source": [
    "class RedInceptionBlock(nn.Module):\n",
    "    def __init__(self, in_channels, out_1x1, red_3x3, out_3x3, red_5x5, out_5x5, out_1x1pool):\n",
    "        super(RedInceptionBlock, self).__init__()\n",
    "        \n",
    "        self.branch1 = ConvBlock(in_channels, out_1x1, kernel_size=1)\n",
    "        \n",
    "        self.branch2 = nn.Sequential(\n",
    "            ConvBlock(in_channels, red_3x3, kernel_size=1),\n",
    "            ConvBlock(red_3x3, out_3x3, kernel_size=3, padding=1)\n",
    "        )\n",
    "        \n",
    "        self.branch3 = nn.Sequential(\n",
    "            ConvBlock(in_channels, red_5x5, kernel_size=1),\n",
    "            ConvBlock(red_5x5, out_5x5, kernel_size=5, padding=2)\n",
    "        )\n",
    "        \n",
    "        self.branch4 = nn.Sequential(\n",
    "            nn.MaxPool2d(kernel_size=3, stride=1, padding=1),\n",
    "            ConvBlock(in_channels, out_1x1pool, kernel_size=1)\n",
    "        )\n",
    "        \n",
    "    def forward(self, x):\n",
    "        return torch.cat(\n",
    "            [self.branch1(x), self.branch2(x), self.branch3(x), self.branch4(x)], 1\n",
    "        )"
   ]
  },
  {
   "cell_type": "code",
   "execution_count": 7,
   "id": "c4722b1d-5323-40f4-9a81-b7e183b63aa4",
   "metadata": {},
   "outputs": [],
   "source": [
    "class InceptionAux(nn.Module):\n",
    "    def __init__(self, in_channels, num_classes):\n",
    "        super(InceptionAux, self).__init__()\n",
    "        \n",
    "        self.adaptAvgPool = nn.AdaptiveAvgPool2d(output_size=(4, 4))\n",
    "        self.dropout = nn.Dropout(p=0.7)\n",
    "        self.relu = nn.ReLU()\n",
    "        \n",
    "        self.conv = ConvBlock(in_channels, 24, kernel_size=1)\n",
    "        self.fc1 = nn.Linear(24*4*4, 128)\n",
    "        self.fc2 = nn.Linear(128, num_classes)\n",
    "        \n",
    "    def forward(self, x):\n",
    "        x = self.adaptAvgPool(x)\n",
    "        x = self.conv(x)\n",
    "        x = x.reshape(x.shape[0], -1) # flatten the out in a single vector\n",
    "        x = self.relu(self.fc1(x))\n",
    "        x = self.dropout(x)\n",
    "        x = self.fc2(x)\n",
    "        \n",
    "        return x"
   ]
  },
  {
   "cell_type": "code",
   "execution_count": 8,
   "id": "01f1288d-3ba0-46e2-a48d-a56c04fc65cb",
   "metadata": {},
   "outputs": [],
   "source": [
    "class InceptionNet(nn.Module):\n",
    "    def __init__(self, aux_logits=True, num_classes=10):\n",
    "        super(InceptionNet, self).__init__()\n",
    "        \n",
    "        assert aux_logits == True or aux_logits == False\n",
    "        self.aux_logits = aux_logits\n",
    "        \n",
    "        self.conv1 = ConvBlock(in_channels=1, out_channels=8, kernel_size=7, stride=2, padding=3)\n",
    "        self.conv2 = ConvBlock(in_channels=8, out_channels=16, kernel_size=3, stride=1, padding=1)\n",
    "        \n",
    "        # In this order: in_channels, out_1x1, out_3x3, out_5x5, out_1x1pool\n",
    "        self.inception3a = InceptionBlock(16, 8, 16, 8, 8)\n",
    "        self.inception3b = InceptionBlock(40, 4, 20, 8, 8)\n",
    "        self.inception3c = InceptionBlock(40, 16, 32, 16, 8)\n",
    "\n",
    "        # In this order: in_channels, out_1x1, red_3x3, out_3x3, red_5x5, out_5x5, out_1x1pool\n",
    "        self.inception4a = RedInceptionBlock(72, 32, 20, 40, 12, 24, 16)\n",
    "        self.inception4b = RedInceptionBlock(112, 24, 22, 44, 14, 28, 16)\n",
    "        self.inception4c = RedInceptionBlock(112, 16, 24, 48, 16, 32, 16)\n",
    "        self.inception4d = RedInceptionBlock(112, 16, 26, 54, 18, 38, 16)\n",
    "        \n",
    "        self.maxpool = nn.MaxPool2d(kernel_size=3, stride=2, padding=1)\n",
    "        self.adaptAvgPool = nn.AdaptiveAvgPool2d(1)\n",
    "        self.dropout = nn.Dropout(p=0.2)\n",
    "        self.fc1 = nn.Linear(124, num_classes)\n",
    "        \n",
    "        if self.aux_logits:\n",
    "            self.aux1 = InceptionAux(112, num_classes)\n",
    "        else:\n",
    "            self.aux1 = None\n",
    "            \n",
    "    def forward(self, x):\n",
    "        x = self.conv1(x)\n",
    "        x = self.maxpool(x)\n",
    "        \n",
    "        x = self.conv2(x)\n",
    "        x = self.maxpool(x)\n",
    "        \n",
    "        x = self.inception3a(x)\n",
    "        x = self.inception3b(x)\n",
    "        x = self.inception3c(x)\n",
    "        x = self.maxpool(x)\n",
    "        \n",
    "        x = self.inception4a(x)\n",
    "        \n",
    "        # Auxiliary Softmax classifier 1\n",
    "        if self.aux_logits and self.training:\n",
    "            aux1 = self.aux1(x)\n",
    "        \n",
    "        x = self.inception4b(x)\n",
    "        x = self.inception4c(x)\n",
    "        x = self.inception4d(x)\n",
    "        x = self.maxpool(x)\n",
    "        \n",
    "        x = self.adaptAvgPool(x)\n",
    "        x = x.reshape(x.shape[0], -1) # flatten the out in a single vector\n",
    "        x = self.dropout(x)\n",
    "        x = self.fc1(x)\n",
    "        \n",
    "        if self.aux_logits and self.training:\n",
    "            return aux1, x\n",
    "        else:\n",
    "            return x"
   ]
  },
  {
   "cell_type": "code",
   "execution_count": 9,
   "id": "10e42f8f-f657-4a81-8768-b85742017d3d",
   "metadata": {},
   "outputs": [
    {
     "data": {
      "text/plain": [
       "==========================================================================================\n",
       "Layer (type:depth-idx)                   Output Shape              Param #\n",
       "==========================================================================================\n",
       "InceptionNet                             [64, 10]                  53,306\n",
       "├─ConvBlock: 1-1                         [64, 8, 14, 14]           --\n",
       "│    └─Conv2d: 2-1                       [64, 8, 14, 14]           392\n",
       "│    └─BatchNorm2d: 2-2                  [64, 8, 14, 14]           16\n",
       "│    └─ReLU: 2-3                         [64, 8, 14, 14]           --\n",
       "├─MaxPool2d: 1-2                         [64, 8, 7, 7]             --\n",
       "├─ConvBlock: 1-3                         [64, 16, 7, 7]            --\n",
       "│    └─Conv2d: 2-4                       [64, 16, 7, 7]            1,152\n",
       "│    └─BatchNorm2d: 2-5                  [64, 16, 7, 7]            32\n",
       "│    └─ReLU: 2-6                         [64, 16, 7, 7]            --\n",
       "├─MaxPool2d: 1-4                         [64, 16, 4, 4]            --\n",
       "├─InceptionBlock: 1-5                    [64, 40, 4, 4]            --\n",
       "│    └─ConvBlock: 2-7                    [64, 8, 4, 4]             --\n",
       "│    │    └─Conv2d: 3-1                  [64, 8, 4, 4]             128\n",
       "│    │    └─BatchNorm2d: 3-2             [64, 8, 4, 4]             16\n",
       "│    │    └─ReLU: 3-3                    [64, 8, 4, 4]             --\n",
       "│    └─ConvBlock: 2-8                    [64, 16, 4, 4]            --\n",
       "│    │    └─Conv2d: 3-4                  [64, 16, 4, 4]            2,304\n",
       "│    │    └─BatchNorm2d: 3-5             [64, 16, 4, 4]            32\n",
       "│    │    └─ReLU: 3-6                    [64, 16, 4, 4]            --\n",
       "│    └─ConvBlock: 2-9                    [64, 8, 4, 4]             --\n",
       "│    │    └─Conv2d: 3-7                  [64, 8, 4, 4]             3,200\n",
       "│    │    └─BatchNorm2d: 3-8             [64, 8, 4, 4]             16\n",
       "│    │    └─ReLU: 3-9                    [64, 8, 4, 4]             --\n",
       "│    └─Sequential: 2-10                  [64, 8, 4, 4]             --\n",
       "│    │    └─MaxPool2d: 3-10              [64, 16, 4, 4]            --\n",
       "│    │    └─ConvBlock: 3-11              [64, 8, 4, 4]             144\n",
       "├─InceptionBlock: 1-6                    [64, 40, 4, 4]            --\n",
       "│    └─ConvBlock: 2-11                   [64, 4, 4, 4]             --\n",
       "│    │    └─Conv2d: 3-12                 [64, 4, 4, 4]             160\n",
       "│    │    └─BatchNorm2d: 3-13            [64, 4, 4, 4]             8\n",
       "│    │    └─ReLU: 3-14                   [64, 4, 4, 4]             --\n",
       "│    └─ConvBlock: 2-12                   [64, 20, 4, 4]            --\n",
       "│    │    └─Conv2d: 3-15                 [64, 20, 4, 4]            7,200\n",
       "│    │    └─BatchNorm2d: 3-16            [64, 20, 4, 4]            40\n",
       "│    │    └─ReLU: 3-17                   [64, 20, 4, 4]            --\n",
       "│    └─ConvBlock: 2-13                   [64, 8, 4, 4]             --\n",
       "│    │    └─Conv2d: 3-18                 [64, 8, 4, 4]             8,000\n",
       "│    │    └─BatchNorm2d: 3-19            [64, 8, 4, 4]             16\n",
       "│    │    └─ReLU: 3-20                   [64, 8, 4, 4]             --\n",
       "│    └─Sequential: 2-14                  [64, 8, 4, 4]             --\n",
       "│    │    └─MaxPool2d: 3-21              [64, 40, 4, 4]            --\n",
       "│    │    └─ConvBlock: 3-22              [64, 8, 4, 4]             336\n",
       "├─InceptionBlock: 1-7                    [64, 72, 4, 4]            --\n",
       "│    └─ConvBlock: 2-15                   [64, 16, 4, 4]            --\n",
       "│    │    └─Conv2d: 3-23                 [64, 16, 4, 4]            640\n",
       "│    │    └─BatchNorm2d: 3-24            [64, 16, 4, 4]            32\n",
       "│    │    └─ReLU: 3-25                   [64, 16, 4, 4]            --\n",
       "│    └─ConvBlock: 2-16                   [64, 32, 4, 4]            --\n",
       "│    │    └─Conv2d: 3-26                 [64, 32, 4, 4]            11,520\n",
       "│    │    └─BatchNorm2d: 3-27            [64, 32, 4, 4]            64\n",
       "│    │    └─ReLU: 3-28                   [64, 32, 4, 4]            --\n",
       "│    └─ConvBlock: 2-17                   [64, 16, 4, 4]            --\n",
       "│    │    └─Conv2d: 3-29                 [64, 16, 4, 4]            16,000\n",
       "│    │    └─BatchNorm2d: 3-30            [64, 16, 4, 4]            32\n",
       "│    │    └─ReLU: 3-31                   [64, 16, 4, 4]            --\n",
       "│    └─Sequential: 2-18                  [64, 8, 4, 4]             --\n",
       "│    │    └─MaxPool2d: 3-32              [64, 40, 4, 4]            --\n",
       "│    │    └─ConvBlock: 3-33              [64, 8, 4, 4]             336\n",
       "├─MaxPool2d: 1-8                         [64, 72, 2, 2]            --\n",
       "├─RedInceptionBlock: 1-9                 [64, 112, 2, 2]           --\n",
       "│    └─ConvBlock: 2-19                   [64, 32, 2, 2]            --\n",
       "│    │    └─Conv2d: 3-34                 [64, 32, 2, 2]            2,304\n",
       "│    │    └─BatchNorm2d: 3-35            [64, 32, 2, 2]            64\n",
       "│    │    └─ReLU: 3-36                   [64, 32, 2, 2]            --\n",
       "│    └─Sequential: 2-20                  [64, 40, 2, 2]            --\n",
       "│    │    └─ConvBlock: 3-37              [64, 20, 2, 2]            1,480\n",
       "│    │    └─ConvBlock: 3-38              [64, 40, 2, 2]            7,280\n",
       "│    └─Sequential: 2-21                  [64, 24, 2, 2]            --\n",
       "│    │    └─ConvBlock: 3-39              [64, 12, 2, 2]            888\n",
       "│    │    └─ConvBlock: 3-40              [64, 24, 2, 2]            7,248\n",
       "│    └─Sequential: 2-22                  [64, 16, 2, 2]            --\n",
       "│    │    └─MaxPool2d: 3-41              [64, 72, 2, 2]            --\n",
       "│    │    └─ConvBlock: 3-42              [64, 16, 2, 2]            1,184\n",
       "├─RedInceptionBlock: 1-10                [64, 112, 2, 2]           --\n",
       "│    └─ConvBlock: 2-23                   [64, 24, 2, 2]            --\n",
       "│    │    └─Conv2d: 3-43                 [64, 24, 2, 2]            2,688\n",
       "│    │    └─BatchNorm2d: 3-44            [64, 24, 2, 2]            48\n",
       "│    │    └─ReLU: 3-45                   [64, 24, 2, 2]            --\n",
       "│    └─Sequential: 2-24                  [64, 44, 2, 2]            --\n",
       "│    │    └─ConvBlock: 3-46              [64, 22, 2, 2]            2,508\n",
       "│    │    └─ConvBlock: 3-47              [64, 44, 2, 2]            8,800\n",
       "│    └─Sequential: 2-25                  [64, 28, 2, 2]            --\n",
       "│    │    └─ConvBlock: 3-48              [64, 14, 2, 2]            1,596\n",
       "│    │    └─ConvBlock: 3-49              [64, 28, 2, 2]            9,856\n",
       "│    └─Sequential: 2-26                  [64, 16, 2, 2]            --\n",
       "│    │    └─MaxPool2d: 3-50              [64, 112, 2, 2]           --\n",
       "│    │    └─ConvBlock: 3-51              [64, 16, 2, 2]            1,824\n",
       "├─RedInceptionBlock: 1-11                [64, 112, 2, 2]           --\n",
       "│    └─ConvBlock: 2-27                   [64, 16, 2, 2]            --\n",
       "│    │    └─Conv2d: 3-52                 [64, 16, 2, 2]            1,792\n",
       "│    │    └─BatchNorm2d: 3-53            [64, 16, 2, 2]            32\n",
       "│    │    └─ReLU: 3-54                   [64, 16, 2, 2]            --\n",
       "│    └─Sequential: 2-28                  [64, 48, 2, 2]            --\n",
       "│    │    └─ConvBlock: 3-55              [64, 24, 2, 2]            2,736\n",
       "│    │    └─ConvBlock: 3-56              [64, 48, 2, 2]            10,464\n",
       "│    └─Sequential: 2-29                  [64, 32, 2, 2]            --\n",
       "│    │    └─ConvBlock: 3-57              [64, 16, 2, 2]            1,824\n",
       "│    │    └─ConvBlock: 3-58              [64, 32, 2, 2]            12,864\n",
       "│    └─Sequential: 2-30                  [64, 16, 2, 2]            --\n",
       "│    │    └─MaxPool2d: 3-59              [64, 112, 2, 2]           --\n",
       "│    │    └─ConvBlock: 3-60              [64, 16, 2, 2]            1,824\n",
       "├─RedInceptionBlock: 1-12                [64, 124, 2, 2]           --\n",
       "│    └─ConvBlock: 2-31                   [64, 16, 2, 2]            --\n",
       "│    │    └─Conv2d: 3-61                 [64, 16, 2, 2]            1,792\n",
       "│    │    └─BatchNorm2d: 3-62            [64, 16, 2, 2]            32\n",
       "│    │    └─ReLU: 3-63                   [64, 16, 2, 2]            --\n",
       "│    └─Sequential: 2-32                  [64, 54, 2, 2]            --\n",
       "│    │    └─ConvBlock: 3-64              [64, 26, 2, 2]            2,964\n",
       "│    │    └─ConvBlock: 3-65              [64, 54, 2, 2]            12,744\n",
       "│    └─Sequential: 2-33                  [64, 38, 2, 2]            --\n",
       "│    │    └─ConvBlock: 3-66              [64, 18, 2, 2]            2,052\n",
       "│    │    └─ConvBlock: 3-67              [64, 38, 2, 2]            17,176\n",
       "│    └─Sequential: 2-34                  [64, 16, 2, 2]            --\n",
       "│    │    └─MaxPool2d: 3-68              [64, 112, 2, 2]           --\n",
       "│    │    └─ConvBlock: 3-69              [64, 16, 2, 2]            1,824\n",
       "├─MaxPool2d: 1-13                        [64, 124, 1, 1]           --\n",
       "├─AdaptiveAvgPool2d: 1-14                [64, 124, 1, 1]           --\n",
       "├─Dropout: 1-15                          [64, 124]                 --\n",
       "├─Linear: 1-16                           [64, 10]                  1,250\n",
       "==========================================================================================\n",
       "Total params: 224,260\n",
       "Trainable params: 224,260\n",
       "Non-trainable params: 0\n",
       "Total mult-adds (M): 89.69\n",
       "==========================================================================================\n",
       "Input size (MB): 0.20\n",
       "Forward/backward pass size (MB): 7.41\n",
       "Params size (MB): 0.68\n",
       "Estimated Total Size (MB): 8.30\n",
       "=========================================================================================="
      ]
     },
     "execution_count": 9,
     "metadata": {},
     "output_type": "execute_result"
    }
   ],
   "source": [
    "model = InceptionNet(aux_logits=True, num_classes=10)\n",
    "summary(model, input_size=(BATCH_SIZE, 1, 28, 28))"
   ]
  },
  {
   "cell_type": "markdown",
   "id": "0873b696-bd5e-46c8-96ac-72a1f6cf193d",
   "metadata": {},
   "source": [
    "## Training and Validation the Model"
   ]
  },
  {
   "cell_type": "code",
   "execution_count": 10,
   "id": "25c09e1f-f203-4705-b545-bf9210352d9f",
   "metadata": {},
   "outputs": [],
   "source": [
    "# loss and optmizer\n",
    "learning_rate = 0.001\n",
    "\n",
    "criterion = nn.CrossEntropyLoss()\n",
    "optimizer = optim.SGD(model.parameters(), lr=learning_rate)"
   ]
  },
  {
   "cell_type": "code",
   "execution_count": 11,
   "id": "2b0cecec-717d-461f-a51a-279a3fc8b230",
   "metadata": {},
   "outputs": [
    {
     "name": "stdout",
     "output_type": "stream",
     "text": [
      "[INFO]: Epoch 1 of 5\n",
      "Training\n"
     ]
    },
    {
     "data": {
      "application/vnd.jupyter.widget-view+json": {
       "model_id": "b8c0326df416456083ea5a3a9e1bea02",
       "version_major": 2,
       "version_minor": 0
      },
      "text/plain": [
       "  0%|          | 0/844 [00:00<?, ?it/s]"
      ]
     },
     "metadata": {},
     "output_type": "display_data"
    },
    {
     "name": "stdout",
     "output_type": "stream",
     "text": [
      "\n",
      "\n",
      "Validation\n"
     ]
    },
    {
     "data": {
      "application/vnd.jupyter.widget-view+json": {
       "model_id": "f9d442ad9b6a4b389c8186a9dc0dd596",
       "version_major": 2,
       "version_minor": 0
      },
      "text/plain": [
       "  0%|          | 0/94 [00:00<?, ?it/s]"
      ]
     },
     "metadata": {},
     "output_type": "display_data"
    },
    {
     "name": "stdout",
     "output_type": "stream",
     "text": [
      "\n",
      "\n",
      "training loss: 1.800, training acc: 65.928%\n",
      "validation loss: 0.443, validation acc: 88.767%\n",
      "--------------------------------------------------\n",
      "[INFO]: Epoch 2 of 5\n",
      "Training\n"
     ]
    },
    {
     "data": {
      "application/vnd.jupyter.widget-view+json": {
       "model_id": "9ca1e79b259546239a8ed70a58858fe6",
       "version_major": 2,
       "version_minor": 0
      },
      "text/plain": [
       "  0%|          | 0/844 [00:00<?, ?it/s]"
      ]
     },
     "metadata": {},
     "output_type": "display_data"
    },
    {
     "name": "stdout",
     "output_type": "stream",
     "text": [
      "\n",
      "\n",
      "Validation\n"
     ]
    },
    {
     "data": {
      "application/vnd.jupyter.widget-view+json": {
       "model_id": "2f37d8a22b2e494fa6b0129fab16045e",
       "version_major": 2,
       "version_minor": 0
      },
      "text/plain": [
       "  0%|          | 0/94 [00:00<?, ?it/s]"
      ]
     },
     "metadata": {},
     "output_type": "display_data"
    },
    {
     "name": "stdout",
     "output_type": "stream",
     "text": [
      "\n",
      "\n",
      "training loss: 0.885, training acc: 90.841%\n",
      "validation loss: 0.222, validation acc: 94.150%\n",
      "--------------------------------------------------\n",
      "[INFO]: Epoch 3 of 5\n",
      "Training\n"
     ]
    },
    {
     "data": {
      "application/vnd.jupyter.widget-view+json": {
       "model_id": "ac168aace62a47dabc56f33e0ff62468",
       "version_major": 2,
       "version_minor": 0
      },
      "text/plain": [
       "  0%|          | 0/844 [00:00<?, ?it/s]"
      ]
     },
     "metadata": {},
     "output_type": "display_data"
    },
    {
     "name": "stdout",
     "output_type": "stream",
     "text": [
      "\n",
      "\n",
      "Validation\n"
     ]
    },
    {
     "data": {
      "application/vnd.jupyter.widget-view+json": {
       "model_id": "7467fcd838ee423cb0902794397746d8",
       "version_major": 2,
       "version_minor": 0
      },
      "text/plain": [
       "  0%|          | 0/94 [00:00<?, ?it/s]"
      ]
     },
     "metadata": {},
     "output_type": "display_data"
    },
    {
     "name": "stdout",
     "output_type": "stream",
     "text": [
      "\n",
      "\n",
      "training loss: 0.636, training acc: 93.996%\n",
      "validation loss: 0.162, validation acc: 95.400%\n",
      "--------------------------------------------------\n",
      "[INFO]: Epoch 4 of 5\n",
      "Training\n"
     ]
    },
    {
     "data": {
      "application/vnd.jupyter.widget-view+json": {
       "model_id": "af5b36e0d32445caba49f8f1496c5258",
       "version_major": 2,
       "version_minor": 0
      },
      "text/plain": [
       "  0%|          | 0/844 [00:00<?, ?it/s]"
      ]
     },
     "metadata": {},
     "output_type": "display_data"
    },
    {
     "name": "stdout",
     "output_type": "stream",
     "text": [
      "\n",
      "\n",
      "Validation\n"
     ]
    },
    {
     "data": {
      "application/vnd.jupyter.widget-view+json": {
       "model_id": "0dc52e5be24f42769ed81e06a628985a",
       "version_major": 2,
       "version_minor": 0
      },
      "text/plain": [
       "  0%|          | 0/94 [00:00<?, ?it/s]"
      ]
     },
     "metadata": {},
     "output_type": "display_data"
    },
    {
     "name": "stdout",
     "output_type": "stream",
     "text": [
      "\n",
      "\n",
      "training loss: 0.487, training acc: 95.354%\n",
      "validation loss: 0.133, validation acc: 96.333%\n",
      "--------------------------------------------------\n",
      "[INFO]: Epoch 5 of 5\n",
      "Training\n"
     ]
    },
    {
     "data": {
      "application/vnd.jupyter.widget-view+json": {
       "model_id": "9c52647d720a439a8870ba87cf8aefc6",
       "version_major": 2,
       "version_minor": 0
      },
      "text/plain": [
       "  0%|          | 0/844 [00:00<?, ?it/s]"
      ]
     },
     "metadata": {},
     "output_type": "display_data"
    },
    {
     "name": "stdout",
     "output_type": "stream",
     "text": [
      "\n",
      "\n",
      "Validation\n"
     ]
    },
    {
     "data": {
      "application/vnd.jupyter.widget-view+json": {
       "model_id": "af4f71f2a2a74a11a1a9b44b84aca835",
       "version_major": 2,
       "version_minor": 0
      },
      "text/plain": [
       "  0%|          | 0/94 [00:00<?, ?it/s]"
      ]
     },
     "metadata": {},
     "output_type": "display_data"
    },
    {
     "name": "stdout",
     "output_type": "stream",
     "text": [
      "\n",
      "\n",
      "training loss: 0.388, training acc: 95.956%\n",
      "validation loss: 0.117, validation acc: 96.583%\n",
      "--------------------------------------------------\n"
     ]
    }
   ],
   "source": [
    "EPOCHS = 5 #100\n",
    "\n",
    "for epoch in range(EPOCHS):\n",
    "    print(f\"[INFO]: Epoch {epoch+1} of {EPOCHS}\")\n",
    "    train_epoch_loss, train_epoch_acc = train(model, train_loader, optimizer, criterion)\n",
    "    print('\\n')\n",
    "    val_epoch_loss, val_epoch_acc = test(model, val_loader, criterion)\n",
    "    \n",
    "    print('\\n')\n",
    "    print(f\"training loss: {train_epoch_loss:.3f}, training acc: {train_epoch_acc:.3f}%\")\n",
    "    print(f\"validation loss: {val_epoch_loss:.3f}, validation acc: {val_epoch_acc:.3f}%\")\n",
    "    print('-'*50)"
   ]
  },
  {
   "cell_type": "code",
   "execution_count": 12,
   "id": "4bcdf882-ae1a-47ce-8610-e44f80d9d158",
   "metadata": {},
   "outputs": [],
   "source": [
    "\"\"\"\n",
    "# save the trained model to disk\n",
    "torch.save({\n",
    "            'epoch': epochs,\n",
    "            'model_state_dict': model.state_dict(),\n",
    "            'optimizer_state_dict': optimizer.state_dict(),\n",
    "            'loss': criterion,\n",
    "            }, './model.pth')\n",
    "\"\"\";"
   ]
  }
 ],
 "metadata": {
  "kernelspec": {
   "display_name": "Python 3 (ipykernel)",
   "language": "python",
   "name": "python3"
  },
  "language_info": {
   "codemirror_mode": {
    "name": "ipython",
    "version": 3
   },
   "file_extension": ".py",
   "mimetype": "text/x-python",
   "name": "python",
   "nbconvert_exporter": "python",
   "pygments_lexer": "ipython3",
   "version": "3.9.13"
  }
 },
 "nbformat": 4,
 "nbformat_minor": 5
}
