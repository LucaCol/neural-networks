{
 "cells": [
  {
   "cell_type": "code",
   "execution_count": 1,
   "id": "bb4f7f3c-166b-49f7-8d0e-8cd56b33226d",
   "metadata": {},
   "outputs": [],
   "source": [
    "import torch\n",
    "import torch.nn as nn\n",
    "import torch.optim as optim\n",
    "import torchvision\n",
    "import torchvision.transforms as transforms\n",
    "from torchinfo import summary\n",
    "from torch.utils.data import DataLoader, Subset\n",
    "from sklearn.model_selection import train_test_split\n",
    "import matplotlib.pyplot as plt\n",
    "#from tqdm.notebook import tqdm\n",
    "\n",
    "from train_test import train, test\n",
    "\n",
    "# device configuration\n",
    "device = torch.device('cuda' if torch.cuda.is_available() else 'cpu')"
   ]
  },
  {
   "cell_type": "markdown",
   "id": "948e4808-f4c9-4aae-9077-9e01b545a0e3",
   "metadata": {
    "tags": []
   },
   "source": [
    "## MNIST Dataset"
   ]
  },
  {
   "cell_type": "code",
   "execution_count": 2,
   "id": "5f230b6f-d17c-42b6-88f2-a32c31ab9c5f",
   "metadata": {},
   "outputs": [
    {
     "name": "stdout",
     "output_type": "stream",
     "text": [
      "844\n",
      "94\n",
      "157\n"
     ]
    }
   ],
   "source": [
    "VAL_SIZE = 0.1\n",
    "BATCH_SIZE = 64\n",
    "\n",
    "# download the training and testing datasets\n",
    "train_dataset = torchvision.datasets.MNIST(root='./data',\n",
    "                                           train=True,\n",
    "                                           transform=transforms.ToTensor(),\n",
    "                                           download=True)\n",
    "\n",
    "test_dataset = torchvision.datasets.MNIST(root='./root',\n",
    "                                          train=False,\n",
    "                                          transform=transforms.ToTensor(),\n",
    "                                          download=True)\n",
    "\n",
    "# split the training set into train and validation sets\n",
    "train_indices, val_indices, _, _ = train_test_split(range(len(train_dataset)),\n",
    "                                                    train_dataset.targets,\n",
    "                                                    stratify=train_dataset.targets,\n",
    "                                                    test_size=VAL_SIZE)\n",
    "\n",
    "train_split = Subset(train_dataset, train_indices)\n",
    "val_split = Subset(train_dataset, val_indices)\n",
    "\n",
    "# now create the batches of the train, val, test sets\n",
    "train_loader = DataLoader(train_split, batch_size=BATCH_SIZE, shuffle=True)\n",
    "val_loader = DataLoader(val_split, batch_size=BATCH_SIZE, shuffle=True)\n",
    "test_loader = DataLoader(test_dataset, batch_size=BATCH_SIZE, shuffle=True)\n",
    "\n",
    "print(len(train_loader))\n",
    "print(len(val_loader))\n",
    "print(len(test_loader))"
   ]
  },
  {
   "cell_type": "code",
   "execution_count": 3,
   "id": "98aa0671-5fb8-4f9a-9219-a46e8da47253",
   "metadata": {},
   "outputs": [
    {
     "name": "stdout",
     "output_type": "stream",
     "text": [
      "torch.Size([28, 28])\n"
     ]
    },
    {
     "data": {
      "image/png": "[encoded data removed]",
      "text/plain": [
       "<Figure size 640x480 with 6 Axes>"
      ]
     },
     "metadata": {},
     "output_type": "display_data"
    }
   ],
   "source": [
    "# show some samples from test set\n",
    "\n",
    "samples = iter(test_loader)\n",
    "sample_data, sample_targets = next(samples)\n",
    "print((sample_data[0][0]).size())\n",
    "\n",
    "for i in range(6):\n",
    "    plt.subplot(2, 3, i+1)\n",
    "    plt.imshow(sample_data[i][0], cmap='gray')\n",
    "plt.show()"
   ]
  },
  {
   "cell_type": "markdown",
   "id": "422e201f-0f18-477b-b294-128d1086a246",
   "metadata": {},
   "source": [
    "## Model"
   ]
  },
  {
   "cell_type": "code",
   "execution_count": 4,
   "id": "9e5c501a-2c55-4d27-8c95-8d3ae9b87e5c",
   "metadata": {},
   "outputs": [],
   "source": [
    "# resnet style convolutional neural network\n",
    "\n",
    "class BasicBlock(nn.Module):\n",
    "    expansion = 1\n",
    "    \n",
    "    def __init__(self, inplanes, planes, stride=1, downsample=None):\n",
    "        super(BasicBlock, self).__init__()\n",
    "        self.downsample = downsample\n",
    "        self.stride = stride\n",
    "        \n",
    "        self.conv1 = nn.Conv2d(in_channels=inplanes, out_channels=planes, kernel_size=3, stride=stride, padding=1, bias=False)\n",
    "        self.conv1_bn = nn.BatchNorm2d(planes)\n",
    "        \n",
    "        self.conv2 = nn.Conv2d(in_channels=planes, out_channels=planes, kernel_size=3, stride=1, padding=1, bias=False)\n",
    "        self.conv2_bn = nn.BatchNorm2d(planes)\n",
    "        \n",
    "        self.relu = nn.ReLU()\n",
    "        \n",
    "    def forward(self, x):\n",
    "        identity = x\n",
    "        \n",
    "        out = self.relu(self.conv1_bn(self.conv1(x)))\n",
    "        out = self.conv2_bn(self.conv2(out)) # apply the relu after the skipped connection addition\n",
    "        \n",
    "        if self.downsample is not None:\n",
    "            identity = self.downsample(x)\n",
    "        \n",
    "        out += identity\n",
    "        out = self.relu(out)\n",
    "        \n",
    "        return out\n",
    "        \n",
    "        \n",
    "class ResNet(nn.Module):\n",
    "    def __init__(self, block, layers, num_classes):\n",
    "        super(ResNet, self).__init__()\n",
    "        self.inplanes = 8\n",
    "        \n",
    "        self.conv1 = nn.Conv2d(in_channels=1, out_channels=self.inplanes, kernel_size=7, stride=2, padding=3, bias=False)\n",
    "        self.conv1_bn = nn.BatchNorm2d(self.inplanes)\n",
    "        self.relu = nn.ReLU()\n",
    "        self.maxpool = nn.MaxPool2d(kernel_size=3, stride=3, padding=1)\n",
    "        \n",
    "        self.layer1 = self._make_layer(block, 8, layers[0])\n",
    "        self.layer2 = self._make_layer(block, 16, layers[1], stride=2)\n",
    "        self.layer3 = self._make_layer(block, 32, layers[2], stride=2)\n",
    "        \n",
    "        self.adaptAvgPool = nn.AdaptiveAvgPool2d((1, 1))\n",
    "        self.fc = nn.Linear(32, num_classes)\n",
    "        \n",
    "        \n",
    "        \n",
    "    def _make_layer(self, block, planes, n_blocks, stride=1):\n",
    "        downsample = None\n",
    "        \n",
    "        if stride != 1 or self.inplanes != planes:\n",
    "            downsample = nn.Sequential(nn.Conv2d(in_channels=self.inplanes, out_channels=planes, kernel_size=1, stride=stride, bias=False),\n",
    "                                       nn.BatchNorm2d(planes))\n",
    "        \n",
    "        # the first convolutional layer for each block which reduce the size of the features space\n",
    "        layers = []\n",
    "        layers.append(block(self.inplanes, planes, stride, downsample))\n",
    "        \n",
    "        self.inplanes = planes\n",
    "        \n",
    "        # the other convolutional layer of the block in which the features dimension and the channels are the same for all the layers\n",
    "        for _ in range(1, n_blocks):\n",
    "            layers.append(block(self.inplanes, planes))\n",
    "        \n",
    "        return nn.Sequential(*layers)\n",
    "        \n",
    "    def forward(self, x):\n",
    "        x = self.relu(self.conv1_bn(self.conv1(x)))\n",
    "        x = self.maxpool(x)\n",
    "        \n",
    "        x = self.layer1(x)\n",
    "        x = self.layer2(x)\n",
    "        x = self.layer3(x)\n",
    "        \n",
    "        x = self.adaptAvgPool(x)\n",
    "        x = x.reshape(x.shape[0], -1) # flatten the out in a single vector\n",
    "        x = self.fc(x)\n",
    "        \n",
    "        return x "
   ]
  },
  {
   "cell_type": "code",
   "execution_count": 5,
   "id": "f7da505b-585f-4ee5-866c-66eae7838469",
   "metadata": {},
   "outputs": [
    {
     "data": {
      "text/plain": [
       "==========================================================================================\n",
       "Layer (type:depth-idx)                   Output Shape              Param #\n",
       "==========================================================================================\n",
       "ResNet                                   [64, 10]                  --\n",
       "├─Conv2d: 1-1                            [64, 8, 14, 14]           392\n",
       "├─BatchNorm2d: 1-2                       [64, 8, 14, 14]           16\n",
       "├─ReLU: 1-3                              [64, 8, 14, 14]           --\n",
       "├─MaxPool2d: 1-4                         [64, 8, 5, 5]             --\n",
       "├─Sequential: 1-5                        [64, 8, 5, 5]             --\n",
       "│    └─BasicBlock: 2-1                   [64, 8, 5, 5]             --\n",
       "│    │    └─Conv2d: 3-1                  [64, 8, 5, 5]             576\n",
       "│    │    └─BatchNorm2d: 3-2             [64, 8, 5, 5]             16\n",
       "│    │    └─ReLU: 3-3                    [64, 8, 5, 5]             --\n",
       "│    │    └─Conv2d: 3-4                  [64, 8, 5, 5]             576\n",
       "│    │    └─BatchNorm2d: 3-5             [64, 8, 5, 5]             16\n",
       "│    │    └─ReLU: 3-6                    [64, 8, 5, 5]             --\n",
       "│    └─BasicBlock: 2-2                   [64, 8, 5, 5]             --\n",
       "│    │    └─Conv2d: 3-7                  [64, 8, 5, 5]             576\n",
       "│    │    └─BatchNorm2d: 3-8             [64, 8, 5, 5]             16\n",
       "│    │    └─ReLU: 3-9                    [64, 8, 5, 5]             --\n",
       "│    │    └─Conv2d: 3-10                 [64, 8, 5, 5]             576\n",
       "│    │    └─BatchNorm2d: 3-11            [64, 8, 5, 5]             16\n",
       "│    │    └─ReLU: 3-12                   [64, 8, 5, 5]             --\n",
       "├─Sequential: 1-6                        [64, 16, 3, 3]            --\n",
       "│    └─BasicBlock: 2-3                   [64, 16, 3, 3]            --\n",
       "│    │    └─Conv2d: 3-13                 [64, 16, 3, 3]            1,152\n",
       "│    │    └─BatchNorm2d: 3-14            [64, 16, 3, 3]            32\n",
       "│    │    └─ReLU: 3-15                   [64, 16, 3, 3]            --\n",
       "│    │    └─Conv2d: 3-16                 [64, 16, 3, 3]            2,304\n",
       "│    │    └─BatchNorm2d: 3-17            [64, 16, 3, 3]            32\n",
       "│    │    └─Sequential: 3-18             [64, 16, 3, 3]            160\n",
       "│    │    └─ReLU: 3-19                   [64, 16, 3, 3]            --\n",
       "│    └─BasicBlock: 2-4                   [64, 16, 3, 3]            --\n",
       "│    │    └─Conv2d: 3-20                 [64, 16, 3, 3]            2,304\n",
       "│    │    └─BatchNorm2d: 3-21            [64, 16, 3, 3]            32\n",
       "│    │    └─ReLU: 3-22                   [64, 16, 3, 3]            --\n",
       "│    │    └─Conv2d: 3-23                 [64, 16, 3, 3]            2,304\n",
       "│    │    └─BatchNorm2d: 3-24            [64, 16, 3, 3]            32\n",
       "│    │    └─ReLU: 3-25                   [64, 16, 3, 3]            --\n",
       "│    └─BasicBlock: 2-5                   [64, 16, 3, 3]            --\n",
       "│    │    └─Conv2d: 3-26                 [64, 16, 3, 3]            2,304\n",
       "│    │    └─BatchNorm2d: 3-27            [64, 16, 3, 3]            32\n",
       "│    │    └─ReLU: 3-28                   [64, 16, 3, 3]            --\n",
       "│    │    └─Conv2d: 3-29                 [64, 16, 3, 3]            2,304\n",
       "│    │    └─BatchNorm2d: 3-30            [64, 16, 3, 3]            32\n",
       "│    │    └─ReLU: 3-31                   [64, 16, 3, 3]            --\n",
       "├─Sequential: 1-7                        [64, 32, 2, 2]            --\n",
       "│    └─BasicBlock: 2-6                   [64, 32, 2, 2]            --\n",
       "│    │    └─Conv2d: 3-32                 [64, 32, 2, 2]            4,608\n",
       "│    │    └─BatchNorm2d: 3-33            [64, 32, 2, 2]            64\n",
       "│    │    └─ReLU: 3-34                   [64, 32, 2, 2]            --\n",
       "│    │    └─Conv2d: 3-35                 [64, 32, 2, 2]            9,216\n",
       "│    │    └─BatchNorm2d: 3-36            [64, 32, 2, 2]            64\n",
       "│    │    └─Sequential: 3-37             [64, 32, 2, 2]            576\n",
       "│    │    └─ReLU: 3-38                   [64, 32, 2, 2]            --\n",
       "│    └─BasicBlock: 2-7                   [64, 32, 2, 2]            --\n",
       "│    │    └─Conv2d: 3-39                 [64, 32, 2, 2]            9,216\n",
       "│    │    └─BatchNorm2d: 3-40            [64, 32, 2, 2]            64\n",
       "│    │    └─ReLU: 3-41                   [64, 32, 2, 2]            --\n",
       "│    │    └─Conv2d: 3-42                 [64, 32, 2, 2]            9,216\n",
       "│    │    └─BatchNorm2d: 3-43            [64, 32, 2, 2]            64\n",
       "│    │    └─ReLU: 3-44                   [64, 32, 2, 2]            --\n",
       "│    └─BasicBlock: 2-8                   [64, 32, 2, 2]            --\n",
       "│    │    └─Conv2d: 3-45                 [64, 32, 2, 2]            9,216\n",
       "│    │    └─BatchNorm2d: 3-46            [64, 32, 2, 2]            64\n",
       "│    │    └─ReLU: 3-47                   [64, 32, 2, 2]            --\n",
       "│    │    └─Conv2d: 3-48                 [64, 32, 2, 2]            9,216\n",
       "│    │    └─BatchNorm2d: 3-49            [64, 32, 2, 2]            64\n",
       "│    │    └─ReLU: 3-50                   [64, 32, 2, 2]            --\n",
       "├─AdaptiveAvgPool2d: 1-8                 [64, 32, 1, 1]            --\n",
       "├─Linear: 1-9                            [64, 10]                  330\n",
       "==========================================================================================\n",
       "Total params: 67,778\n",
       "Trainable params: 67,778\n",
       "Non-trainable params: 0\n",
       "Total mult-adds (M): 29.15\n",
       "==========================================================================================\n",
       "Input size (MB): 0.20\n",
       "Forward/backward pass size (MB): 4.38\n",
       "Params size (MB): 0.27\n",
       "Estimated Total Size (MB): 4.85\n",
       "=========================================================================================="
      ]
     },
     "execution_count": 5,
     "metadata": {},
     "output_type": "execute_result"
    }
   ],
   "source": [
    "layers = [2, 3, 3]\n",
    "model = ResNet(BasicBlock, layers, num_classes=10).to(device)\n",
    "summary(model, input_size=(BATCH_SIZE, 1, 28, 28))"
   ]
  },
  {
   "cell_type": "markdown",
   "id": "1069c15f-77f3-44c2-a16c-868e9568cf72",
   "metadata": {},
   "source": [
    "## Training and Validation the Model"
   ]
  },
  {
   "cell_type": "code",
   "execution_count": 6,
   "id": "b41e68bf-8ede-4678-a60c-c797059d643e",
   "metadata": {},
   "outputs": [],
   "source": [
    "# loss and optmizer\n",
    "learning_rate = 0.001\n",
    "\n",
    "criterion = nn.CrossEntropyLoss()\n",
    "optimizer = optim.SGD(model.parameters(), lr=learning_rate)"
   ]
  },
  {
   "cell_type": "code",
   "execution_count": 7,
   "id": "e20baa97-2096-46ba-b166-1bfb7dccb1ca",
   "metadata": {},
   "outputs": [
    {
     "name": "stdout",
     "output_type": "stream",
     "text": [
      "[INFO]: Epoch 1 of 5\n",
      "Training\n"
     ]
    },
    {
     "data": {
      "application/vnd.jupyter.widget-view+json": {
       "model_id": "aef7b48269ce4041806cf9c675e970dd",
       "version_major": 2,
       "version_minor": 0
      },
      "text/plain": [
       "  0%|          | 0/844 [00:00<?, ?it/s]"
      ]
     },
     "metadata": {},
     "output_type": "display_data"
    },
    {
     "name": "stdout",
     "output_type": "stream",
     "text": [
      "\n",
      "\n",
      "Validation\n"
     ]
    },
    {
     "data": {
      "application/vnd.jupyter.widget-view+json": {
       "model_id": "517554dead1441fa9ff946341b52806d",
       "version_major": 2,
       "version_minor": 0
      },
      "text/plain": [
       "  0%|          | 0/94 [00:00<?, ?it/s]"
      ]
     },
     "metadata": {},
     "output_type": "display_data"
    },
    {
     "name": "stdout",
     "output_type": "stream",
     "text": [
      "\n",
      "\n",
      "training loss: 1.372, training acc: 61.169%\n",
      "validation loss: 0.780, validation acc: 82.100%\n",
      "--------------------------------------------------\n",
      "[INFO]: Epoch 2 of 5\n",
      "Training\n"
     ]
    },
    {
     "data": {
      "application/vnd.jupyter.widget-view+json": {
       "model_id": "0d22a76c26e44e3b9e2b99a131d44c39",
       "version_major": 2,
       "version_minor": 0
      },
      "text/plain": [
       "  0%|          | 0/844 [00:00<?, ?it/s]"
      ]
     },
     "metadata": {},
     "output_type": "display_data"
    },
    {
     "name": "stdout",
     "output_type": "stream",
     "text": [
      "\n",
      "\n",
      "Validation\n"
     ]
    },
    {
     "data": {
      "application/vnd.jupyter.widget-view+json": {
       "model_id": "7ac71e535c92420e9392f2463b3a371d",
       "version_major": 2,
       "version_minor": 0
      },
      "text/plain": [
       "  0%|          | 0/94 [00:00<?, ?it/s]"
      ]
     },
     "metadata": {},
     "output_type": "display_data"
    },
    {
     "name": "stdout",
     "output_type": "stream",
     "text": [
      "\n",
      "\n",
      "training loss: 0.564, training acc: 87.589%\n",
      "validation loss: 0.384, validation acc: 90.950%\n",
      "--------------------------------------------------\n",
      "[INFO]: Epoch 3 of 5\n",
      "Training\n"
     ]
    },
    {
     "data": {
      "application/vnd.jupyter.widget-view+json": {
       "model_id": "c21434497b224af586e0a67ac7a0d4d4",
       "version_major": 2,
       "version_minor": 0
      },
      "text/plain": [
       "  0%|          | 0/844 [00:00<?, ?it/s]"
      ]
     },
     "metadata": {},
     "output_type": "display_data"
    },
    {
     "name": "stdout",
     "output_type": "stream",
     "text": [
      "\n",
      "\n",
      "Validation\n"
     ]
    },
    {
     "data": {
      "application/vnd.jupyter.widget-view+json": {
       "model_id": "41e5aace837b4aca81f0857e6f7122c2",
       "version_major": 2,
       "version_minor": 0
      },
      "text/plain": [
       "  0%|          | 0/94 [00:00<?, ?it/s]"
      ]
     },
     "metadata": {},
     "output_type": "display_data"
    },
    {
     "name": "stdout",
     "output_type": "stream",
     "text": [
      "\n",
      "\n",
      "training loss: 0.333, training acc: 92.107%\n",
      "validation loss: 0.262, validation acc: 93.367%\n",
      "--------------------------------------------------\n",
      "[INFO]: Epoch 4 of 5\n",
      "Training\n"
     ]
    },
    {
     "data": {
      "application/vnd.jupyter.widget-view+json": {
       "model_id": "890bc2da4c56473ea1ae06a8496bd41b",
       "version_major": 2,
       "version_minor": 0
      },
      "text/plain": [
       "  0%|          | 0/844 [00:00<?, ?it/s]"
      ]
     },
     "metadata": {},
     "output_type": "display_data"
    },
    {
     "name": "stdout",
     "output_type": "stream",
     "text": [
      "\n",
      "\n",
      "Validation\n"
     ]
    },
    {
     "data": {
      "application/vnd.jupyter.widget-view+json": {
       "model_id": "57a3f68ff58446b6979d637dccc80edc",
       "version_major": 2,
       "version_minor": 0
      },
      "text/plain": [
       "  0%|          | 0/94 [00:00<?, ?it/s]"
      ]
     },
     "metadata": {},
     "output_type": "display_data"
    },
    {
     "name": "stdout",
     "output_type": "stream",
     "text": [
      "\n",
      "\n",
      "training loss: 0.247, training acc: 93.813%\n",
      "validation loss: 0.206, validation acc: 94.600%\n",
      "--------------------------------------------------\n",
      "[INFO]: Epoch 5 of 5\n",
      "Training\n"
     ]
    },
    {
     "data": {
      "application/vnd.jupyter.widget-view+json": {
       "model_id": "48f6834cf9f94bff95caeaff010f52fe",
       "version_major": 2,
       "version_minor": 0
      },
      "text/plain": [
       "  0%|          | 0/844 [00:00<?, ?it/s]"
      ]
     },
     "metadata": {},
     "output_type": "display_data"
    },
    {
     "name": "stdout",
     "output_type": "stream",
     "text": [
      "\n",
      "\n",
      "Validation\n"
     ]
    },
    {
     "data": {
      "application/vnd.jupyter.widget-view+json": {
       "model_id": "f2a0218652af4c5a8e4788aa640bea1c",
       "version_major": 2,
       "version_minor": 0
      },
      "text/plain": [
       "  0%|          | 0/94 [00:00<?, ?it/s]"
      ]
     },
     "metadata": {},
     "output_type": "display_data"
    },
    {
     "name": "stdout",
     "output_type": "stream",
     "text": [
      "\n",
      "\n",
      "training loss: 0.204, training acc: 94.706%\n",
      "validation loss: 0.177, validation acc: 95.150%\n",
      "--------------------------------------------------\n"
     ]
    }
   ],
   "source": [
    "EPOCHS = 5 #100\n",
    "\n",
    "for epoch in range(EPOCHS):\n",
    "    print(f\"[INFO]: Epoch {epoch+1} of {EPOCHS}\")\n",
    "    train_epoch_loss, train_epoch_acc = train(model, train_loader, optimizer, criterion)\n",
    "    print('\\n')\n",
    "    val_epoch_loss, val_epoch_acc = test(model, val_loader, criterion)\n",
    "    \n",
    "    print('\\n')\n",
    "    print(f\"training loss: {train_epoch_loss:.3f}, training acc: {train_epoch_acc:.3f}%\")\n",
    "    print(f\"validation loss: {val_epoch_loss:.3f}, validation acc: {val_epoch_acc:.3f}%\")\n",
    "    print('-'*50)"
   ]
  },
  {
   "cell_type": "code",
   "execution_count": 8,
   "id": "bd3d8484-aa88-4ab9-8953-731f2f4d2078",
   "metadata": {},
   "outputs": [],
   "source": [
    "\"\"\"\n",
    "# save the trained model to disk\n",
    "torch.save({\n",
    "            'epoch': epochs,\n",
    "            'model_state_dict': model.state_dict(),\n",
    "            'optimizer_state_dict': optimizer.state_dict(),\n",
    "            'loss': criterion,\n",
    "            }, './model.pth')\n",
    "\"\"\";"
   ]
  }
 ],
 "metadata": {
  "kernelspec": {
   "display_name": "Python 3 (ipykernel)",
   "language": "python",
   "name": "python3"
  },
  "language_info": {
   "codemirror_mode": {
    "name": "ipython",
    "version": 3
   },
   "file_extension": ".py",
   "mimetype": "text/x-python",
   "name": "python",
   "nbconvert_exporter": "python",
   "pygments_lexer": "ipython3",
   "version": "3.9.13"
  }
 },
 "nbformat": 4,
 "nbformat_minor": 5
}
