{
 "cells": [
  {
   "cell_type": "code",
   "execution_count": 1,
   "id": "e0057d52-1916-4111-9632-a928ae2a1b4e",
   "metadata": {},
   "outputs": [],
   "source": [
    "import torch\n",
    "import torch.nn as nn\n",
    "import torch.optim as optim\n",
    "import torchvision\n",
    "import torchvision.transforms as transforms\n",
    "from torchinfo import summary\n",
    "from torch.utils.data import DataLoader, Subset\n",
    "from sklearn.model_selection import train_test_split\n",
    "import matplotlib.pyplot as plt\n",
    "from tqdm.notebook import tqdm\n",
    "from torch.utils.tensorboard import SummaryWriter\n",
    "\n",
    "# device configuration\n",
    "device = torch.device('cuda' if torch.cuda.is_available() else 'cpu')"
   ]
  },
  {
   "cell_type": "markdown",
   "id": "30eb1543-7cb5-4433-8a83-3b64e951d542",
   "metadata": {},
   "source": [
    "## MNIST Dataset"
   ]
  },
  {
   "cell_type": "code",
   "execution_count": 2,
   "id": "55536b18-c653-47f2-8089-55b4b47f2823",
   "metadata": {},
   "outputs": [
    {
     "name": "stdout",
     "output_type": "stream",
     "text": [
      "844\n",
      "94\n",
      "157\n"
     ]
    }
   ],
   "source": [
    "VAL_SIZE = 0.1\n",
    "BATCH_SIZE = 64\n",
    "\n",
    "# download the training and testing datasets\n",
    "train_dataset = torchvision.datasets.MNIST(root='./data',\n",
    "                                           train=True,\n",
    "                                           transform=transforms.ToTensor(),\n",
    "                                           download=True)\n",
    "\n",
    "test_dataset = torchvision.datasets.MNIST(root='./root',\n",
    "                                          train=False,\n",
    "                                          transform=transforms.ToTensor(),\n",
    "                                          download=True)\n",
    "\n",
    "# split the training set into train and validation sets\n",
    "train_indices, val_indices, _, _ = train_test_split(range(len(train_dataset)),\n",
    "                                                    train_dataset.targets,\n",
    "                                                    stratify=train_dataset.targets,\n",
    "                                                    test_size=VAL_SIZE)\n",
    "\n",
    "train_split = Subset(train_dataset, train_indices)\n",
    "val_split = Subset(train_dataset, val_indices)\n",
    "\n",
    "# now create the batches of the train, val, test sets\n",
    "train_loader = DataLoader(train_split, batch_size=BATCH_SIZE, shuffle=True)\n",
    "val_loader = DataLoader(val_split, batch_size=BATCH_SIZE, shuffle=True)\n",
    "test_loader = DataLoader(test_dataset, batch_size=BATCH_SIZE, shuffle=True)\n",
    "\n",
    "print(len(train_loader))\n",
    "print(len(val_loader))\n",
    "print(len(test_loader))"
   ]
  },
  {
   "cell_type": "code",
   "execution_count": 3,
   "id": "7a21adca-2e22-4500-8d4a-c854161917bf",
   "metadata": {},
   "outputs": [
    {
     "data": {
      "image/png": "[encoded data removed]",
      "text/plain": [
       "<Figure size 640x480 with 6 Axes>"
      ]
     },
     "metadata": {},
     "output_type": "display_data"
    }
   ],
   "source": [
    "# show some samples from test set\n",
    "\n",
    "samples = iter(test_loader)\n",
    "sample_data, sample_targets = next(samples)\n",
    "\n",
    "for i in range(6):\n",
    "    plt.subplot(2, 3, i+1)\n",
    "    plt.imshow(sample_data[i][0], cmap='gray')\n",
    "plt.show()"
   ]
  },
  {
   "cell_type": "markdown",
   "id": "cfd4208e-7637-4d36-9164-1e41cf6c5bd8",
   "metadata": {
    "tags": []
   },
   "source": [
    "## Model"
   ]
  },
  {
   "cell_type": "code",
   "execution_count": 4,
   "id": "d0d8ed85-df65-49ac-bb5e-2a0ce0ee25fe",
   "metadata": {},
   "outputs": [],
   "source": [
    "# fully connected neural network with one hidden layer\n",
    "class FCNeuralNet(nn.Module):\n",
    "    def __init__(self):\n",
    "        super(FCNeuralNet, self).__init__()\n",
    "        self.input_size = 28*28\n",
    "        self.num_classes = 10\n",
    "        self.hidden_size = 512\n",
    "        self.fc1 = nn.Linear(self.input_size, self.hidden_size)\n",
    "        self.fc2 = nn.Linear(self.hidden_size, self.num_classes)\n",
    "        self.relu = nn.ReLU()\n",
    "    \n",
    "    def forward(self, x):\n",
    "        x = self.relu(self.fc1(x))\n",
    "        x = self.fc2(x)\n",
    "        # no activation function here (no softmax) because the loss implement it directly\n",
    "        return x"
   ]
  },
  {
   "cell_type": "code",
   "execution_count": 5,
   "id": "b54cee1e-e17f-4004-a9b4-a42e737e266b",
   "metadata": {},
   "outputs": [
    {
     "data": {
      "text/plain": [
       "==========================================================================================\n",
       "Layer (type:depth-idx)                   Output Shape              Param #\n",
       "==========================================================================================\n",
       "FCNeuralNet                              [64, 1, 10]               --\n",
       "├─Linear: 1-1                            [64, 1, 512]              401,920\n",
       "├─ReLU: 1-2                              [64, 1, 512]              --\n",
       "├─Linear: 1-3                            [64, 1, 10]               5,130\n",
       "==========================================================================================\n",
       "Total params: 407,050\n",
       "Trainable params: 407,050\n",
       "Non-trainable params: 0\n",
       "Total mult-adds (M): 26.05\n",
       "==========================================================================================\n",
       "Input size (MB): 0.20\n",
       "Forward/backward pass size (MB): 0.27\n",
       "Params size (MB): 1.63\n",
       "Estimated Total Size (MB): 2.10\n",
       "=========================================================================================="
      ]
     },
     "execution_count": 5,
     "metadata": {},
     "output_type": "execute_result"
    }
   ],
   "source": [
    "model = FCNeuralNet().to(device)\n",
    "summary(model, input_size=(BATCH_SIZE, 1, 28*28))"
   ]
  },
  {
   "cell_type": "code",
   "execution_count": 6,
   "id": "c068ca29-bc6a-4886-9b7d-d922861e167f",
   "metadata": {},
   "outputs": [],
   "source": [
    "# loss and optmizer\n",
    "learning_rate = 0.001\n",
    "\n",
    "criterion = nn.CrossEntropyLoss()\n",
    "optimizer = optim.SGD(model.parameters(), lr=learning_rate)"
   ]
  },
  {
   "cell_type": "code",
   "execution_count": 7,
   "id": "f159360b-01da-4963-b43b-1b4c4df8038d",
   "metadata": {},
   "outputs": [],
   "source": [
    "# training\n",
    "def train(model, trainloader, optimizer, criterion):\n",
    "    # model.train() is a kind of switch for some specific layers/parts of the model that behave differently \n",
    "    # during training time.(For example, Dropouts Layers, BatchNorm Layers, etc.)\n",
    "    model.train()\n",
    "    \n",
    "    print('Training')\n",
    "    train_running_loss = 0.0\n",
    "    train_running_correct = 0\n",
    "    counter = 0\n",
    "    for i, data in tqdm(enumerate(trainloader), total=len(trainloader)):\n",
    "        counter += 1\n",
    "        \n",
    "        # from each batch retrieve the images and labels\n",
    "        image, labels = data\n",
    "        #labels = labels - 1\n",
    "        image = image.reshape(-1, 28*28).to(device)\n",
    "        labels = labels.to(device)\n",
    "        \n",
    "        # zeros the gradient of the previous iteration\n",
    "        optimizer.zero_grad()\n",
    "        \n",
    "        # forward pass\n",
    "        outputs = model(image)\n",
    "        \n",
    "        # calculate the loss\n",
    "        loss = criterion(outputs, labels)\n",
    "        train_running_loss += loss.item()\n",
    "        \n",
    "        # calculate the accuracy\n",
    "        _, preds = torch.max(outputs.data, 1)\n",
    "        train_running_correct += (preds == labels).sum().item()\n",
    "        \n",
    "        # apply the gradient and update the weights\n",
    "        loss.backward()\n",
    "        optimizer.step()\n",
    "    \n",
    "    epoch_loss = train_running_loss / counter\n",
    "    epoch_acc = 100. * (train_running_correct / len(trainloader.dataset))\n",
    "\n",
    "    return epoch_loss, epoch_acc"
   ]
  },
  {
   "cell_type": "code",
   "execution_count": 8,
   "id": "216782b3-c9e2-4f90-acac-889b5608f00b",
   "metadata": {},
   "outputs": [],
   "source": [
    "# test\n",
    "def test(model, testloader, criterion):\n",
    "    # model.eval() is a kind of switch for some specific layers/parts of the model that behave differently \n",
    "    # during validation time.(For example, Dropouts Layers, BatchNorm Layers, etc.)\n",
    "    # combine with torch.no_grad() to turn of the gradient computation\n",
    "    model.eval()\n",
    "    \n",
    "    # we need two lists to keep track of class-wise accuracy\n",
    "    class_correct = list(0. for i in range(10+1))\n",
    "    class_total = list(0. for i in range(10+1))\n",
    "    \n",
    "    print('Validation')\n",
    "    valid_running_loss = 0.0\n",
    "    valid_running_correct = 0\n",
    "    counter = 0\n",
    "    with torch.no_grad():\n",
    "        for i, data in tqdm(enumerate(testloader), total=len(testloader)):\n",
    "            counter += 1\n",
    "            \n",
    "            # from each batch retrieve the images and labels\n",
    "            image, labels = data\n",
    "            #labels = labels - 1\n",
    "            image = image.reshape(-1, 28*28).to(device)\n",
    "            labels = labels.to(device)\n",
    "            \n",
    "            # forward pass\n",
    "            outputs = model(image)\n",
    "            \n",
    "            # calculate the loss\n",
    "            loss = criterion(outputs, labels)\n",
    "            valid_running_loss += loss.item()\n",
    "            \n",
    "            # calculate the accuracy\n",
    "            _, preds = torch.max(outputs.data, 1)\n",
    "            valid_running_correct += (preds == labels).sum().item()\n",
    "\n",
    "            # calculate the accuracy for each class\n",
    "            \"\"\"\n",
    "            correct  = (preds == labels).squeeze()\n",
    "            for i in range(len(preds)):\n",
    "                label = labels[i]\n",
    "                class_correct[label] += correct[i].item()\n",
    "                class_total[label] += 1\n",
    "            \"\"\"\n",
    "        \n",
    "    epoch_loss = valid_running_loss / counter\n",
    "    epoch_acc = 100. * (valid_running_correct / len(testloader.dataset))\n",
    "\n",
    "    return epoch_loss, epoch_acc\n",
    "\n",
    "\"\"\"\n",
    "    # print the accuracy for each class after evey epoch\n",
    "    # the values should increase as the training goes on\n",
    "    print('\\n')\n",
    "    for i in range(183):\n",
    "        print(f\"Accuracy of digit {i+1}: {100*class_correct[i]/class_total[i]}\")\n",
    "\"\"\";"
   ]
  },
  {
   "cell_type": "markdown",
   "id": "6f7b1e23-f751-4506-b444-68943c9ef7af",
   "metadata": {},
   "source": [
    "## Training and Validation the Model"
   ]
  },
  {
   "cell_type": "code",
   "execution_count": 9,
   "id": "e7db16b8-6126-44be-b73f-737e31e00e84",
   "metadata": {},
   "outputs": [
    {
     "name": "stdout",
     "output_type": "stream",
     "text": [
      "[INFO]: Epoch 1 of 5\n",
      "Training\n"
     ]
    },
    {
     "data": {
      "application/vnd.jupyter.widget-view+json": {
       "model_id": "18d3e0c7bf2646089c03fa2f1c52f0e9",
       "version_major": 2,
       "version_minor": 0
      },
      "text/plain": [
       "  0%|          | 0/844 [00:00<?, ?it/s]"
      ]
     },
     "metadata": {},
     "output_type": "display_data"
    },
    {
     "name": "stdout",
     "output_type": "stream",
     "text": [
      "\n",
      "\n",
      "Validation\n"
     ]
    },
    {
     "data": {
      "application/vnd.jupyter.widget-view+json": {
       "model_id": "64537d435a684a818394118b767bcbb3",
       "version_major": 2,
       "version_minor": 0
      },
      "text/plain": [
       "  0%|          | 0/94 [00:00<?, ?it/s]"
      ]
     },
     "metadata": {},
     "output_type": "display_data"
    },
    {
     "name": "stdout",
     "output_type": "stream",
     "text": [
      "\n",
      "\n",
      "training loss: 2.213, training acc: 41.628%\n",
      "validation loss: 2.107, validation acc: 64.717%\n",
      "--------------------------------------------------\n",
      "[INFO]: Epoch 2 of 5\n",
      "Training\n"
     ]
    },
    {
     "data": {
      "application/vnd.jupyter.widget-view+json": {
       "model_id": "8a66406da7c240229c1c5f6d3759404e",
       "version_major": 2,
       "version_minor": 0
      },
      "text/plain": [
       "  0%|          | 0/844 [00:00<?, ?it/s]"
      ]
     },
     "metadata": {},
     "output_type": "display_data"
    },
    {
     "name": "stdout",
     "output_type": "stream",
     "text": [
      "\n",
      "\n",
      "Validation\n"
     ]
    },
    {
     "data": {
      "application/vnd.jupyter.widget-view+json": {
       "model_id": "b7b87545def64f20b1210ee4a8d03fba",
       "version_major": 2,
       "version_minor": 0
      },
      "text/plain": [
       "  0%|          | 0/94 [00:00<?, ?it/s]"
      ]
     },
     "metadata": {},
     "output_type": "display_data"
    },
    {
     "name": "stdout",
     "output_type": "stream",
     "text": [
      "\n",
      "\n",
      "training loss: 1.982, training acc: 69.769%\n",
      "validation loss: 1.848, validation acc: 73.400%\n",
      "--------------------------------------------------\n",
      "[INFO]: Epoch 3 of 5\n",
      "Training\n"
     ]
    },
    {
     "data": {
      "application/vnd.jupyter.widget-view+json": {
       "model_id": "607e93dbd0164f4b9279a73aaacd598c",
       "version_major": 2,
       "version_minor": 0
      },
      "text/plain": [
       "  0%|          | 0/844 [00:00<?, ?it/s]"
      ]
     },
     "metadata": {},
     "output_type": "display_data"
    },
    {
     "name": "stdout",
     "output_type": "stream",
     "text": [
      "\n",
      "\n",
      "Validation\n"
     ]
    },
    {
     "data": {
      "application/vnd.jupyter.widget-view+json": {
       "model_id": "3ac7f10cf91c4c5299d615f9f9f5ddc9",
       "version_major": 2,
       "version_minor": 0
      },
      "text/plain": [
       "  0%|          | 0/94 [00:00<?, ?it/s]"
      ]
     },
     "metadata": {},
     "output_type": "display_data"
    },
    {
     "name": "stdout",
     "output_type": "stream",
     "text": [
      "\n",
      "\n",
      "training loss: 1.698, training acc: 74.359%\n",
      "validation loss: 1.547, validation acc: 76.900%\n",
      "--------------------------------------------------\n",
      "[INFO]: Epoch 4 of 5\n",
      "Training\n"
     ]
    },
    {
     "data": {
      "application/vnd.jupyter.widget-view+json": {
       "model_id": "da7c686d97924962807b54bd5884132e",
       "version_major": 2,
       "version_minor": 0
      },
      "text/plain": [
       "  0%|          | 0/844 [00:00<?, ?it/s]"
      ]
     },
     "metadata": {},
     "output_type": "display_data"
    },
    {
     "name": "stdout",
     "output_type": "stream",
     "text": [
      "\n",
      "\n",
      "Validation\n"
     ]
    },
    {
     "data": {
      "application/vnd.jupyter.widget-view+json": {
       "model_id": "46b5ab90bbbe4d8cb5dab9764e155eb0",
       "version_major": 2,
       "version_minor": 0
      },
      "text/plain": [
       "  0%|          | 0/94 [00:00<?, ?it/s]"
      ]
     },
     "metadata": {},
     "output_type": "display_data"
    },
    {
     "name": "stdout",
     "output_type": "stream",
     "text": [
      "\n",
      "\n",
      "training loss: 1.403, training acc: 77.480%\n",
      "validation loss: 1.269, validation acc: 79.250%\n",
      "--------------------------------------------------\n",
      "[INFO]: Epoch 5 of 5\n",
      "Training\n"
     ]
    },
    {
     "data": {
      "application/vnd.jupyter.widget-view+json": {
       "model_id": "a627f7b79b5f4e779ae2268dee8aee3b",
       "version_major": 2,
       "version_minor": 0
      },
      "text/plain": [
       "  0%|          | 0/844 [00:00<?, ?it/s]"
      ]
     },
     "metadata": {},
     "output_type": "display_data"
    },
    {
     "name": "stdout",
     "output_type": "stream",
     "text": [
      "\n",
      "\n",
      "Validation\n"
     ]
    },
    {
     "data": {
      "application/vnd.jupyter.widget-view+json": {
       "model_id": "b50a632f56d84ee687bc8092b90e5621",
       "version_major": 2,
       "version_minor": 0
      },
      "text/plain": [
       "  0%|          | 0/94 [00:00<?, ?it/s]"
      ]
     },
     "metadata": {},
     "output_type": "display_data"
    },
    {
     "name": "stdout",
     "output_type": "stream",
     "text": [
      "\n",
      "\n",
      "training loss: 1.158, training acc: 79.961%\n",
      "validation loss: 1.056, validation acc: 81.917%\n",
      "--------------------------------------------------\n"
     ]
    }
   ],
   "source": [
    "writer = SummaryWriter() # writer for the tensorboard\n",
    "EPOCHS = 5 #100\n",
    "\n",
    "for epoch in range(EPOCHS):\n",
    "    logs = {}\n",
    "    print(f\"[INFO]: Epoch {epoch+1} of {EPOCHS}\")\n",
    "    train_epoch_loss, train_epoch_acc = train(model, train_loader, optimizer, criterion)\n",
    "    print('\\n')\n",
    "    val_epoch_loss, val_epoch_acc = test(model, val_loader, criterion)\n",
    "    \n",
    "    \n",
    "    print('\\n')\n",
    "    print(f\"training loss: {train_epoch_loss:.3f}, training acc: {train_epoch_acc:.3f}%\")\n",
    "    print(f\"validation loss: {val_epoch_loss:.3f}, validation acc: {val_epoch_acc:.3f}%\")\n",
    "    print('-'*50)\n",
    "\n",
    "    writer.add_scalar(\"train/training_loss\", train_epoch_loss, epoch+1)\n",
    "    writer.add_scalar(\"train/training_acc\", train_epoch_acc, epoch+1)\n",
    "    writer.flush()\n",
    "\n",
    "    writer.add_scalar(\"valid/val_loss\", val_epoch_loss, epoch+1)\n",
    "    writer.add_scalar(\"valid/val_acc\", val_epoch_acc, epoch+1)\n",
    "    writer.flush()"
   ]
  },
  {
   "cell_type": "code",
   "execution_count": 10,
   "id": "4b1c7e76-4216-49c8-869f-ae90e9793c14",
   "metadata": {},
   "outputs": [],
   "source": [
    "\"\"\"\n",
    "# save the trained model to disk\n",
    "torch.save({\n",
    "            'epoch': epochs,\n",
    "            'model_state_dict': model.state_dict(),\n",
    "            'optimizer_state_dict': optimizer.state_dict(),\n",
    "            'loss': criterion,\n",
    "            }, './model.pth')\n",
    "\"\"\";"
   ]
  }
 ],
 "metadata": {
  "kernelspec": {
   "display_name": "Python 3 (ipykernel)",
   "language": "python",
   "name": "python3"
  },
  "language_info": {
   "codemirror_mode": {
    "name": "ipython",
    "version": 3
   },
   "file_extension": ".py",
   "mimetype": "text/x-python",
   "name": "python",
   "nbconvert_exporter": "python",
   "pygments_lexer": "ipython3",
   "version": "3.9.13"
  }
 },
 "nbformat": 4,
 "nbformat_minor": 5
}
